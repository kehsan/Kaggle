{
 "cells": [
  {
   "cell_type": "code",
   "execution_count": null,
   "metadata": {},
   "outputs": [],
   "source": [
    "# Thanks to Ayse Bat and others for large contributions of their Kernels.\n"
   ]
  },
  {
   "cell_type": "markdown",
   "metadata": {},
   "source": [
    "## Please feel free to see if you can improve my score beyond 0.788"
   ]
  },
  {
   "cell_type": "code",
   "execution_count": 2,
   "metadata": {},
   "outputs": [],
   "source": [
    "#visualization imports\n",
    "\n",
    "import matplotlib.pyplot as plt\n",
    "%matplotlib inline \n",
    "\n",
    "import seaborn as sns\n"
   ]
  },
  {
   "cell_type": "code",
   "execution_count": 1,
   "metadata": {
    "tags": [
     "{",
     "\"tags\":",
     "[",
     "\"hide_input\"",
     "]",
     "}"
    ]
   },
   "outputs": [],
   "source": [
    "#Data analysis\n",
    "\n",
    "import numpy as np\n",
    "import pandas as pd\n",
    "#Register Pandas Formatters and Converters with matplotlib\n",
    "pd.plotting.register_matplotlib_converters()\n",
    "pd.set_option('use_inf_as_na', True) #turns all inf,-inf into Nan values"
   ]
  },
  {
   "cell_type": "code",
   "execution_count": 3,
   "metadata": {},
   "outputs": [],
   "source": [
    "#machine learning imports\n",
    "from sklearn.tree import DecisionTreeClassifier\n",
    "from sklearn.linear_model import LogisticRegression\n",
    "from sklearn.ensemble import RandomForestClassifier\n",
    "from sklearn.neighbors import KNeighborsClassifier\n",
    "from sklearn.naive_bayes import GaussianNB\n",
    "from sklearn import svm\n",
    "from sklearn.ensemble import AdaBoostClassifier\n",
    "\n",
    "import xgboost as xg\n",
    "\n",
    "from sklearn.metrics import confusion_matrix\n",
    "from sklearn import metrics\n",
    "from sklearn.model_selection import cross_val_predict\n",
    "\n",
    "#import pandas_profiling as pp"
   ]
  },
  {
   "cell_type": "code",
   "execution_count": 4,
   "metadata": {},
   "outputs": [],
   "source": [
    "import warnings\n",
    "#warnings.filterwarnings('ignore') #changed ignore to default\n",
    "#warnings.simplefilter('ignore')"
   ]
  },
  {
   "cell_type": "code",
   "execution_count": 5,
   "metadata": {},
   "outputs": [],
   "source": [
    "def missing_values(data_set):\n",
    "    missings = data_set.isna().sum().sort_values(ascending=False)\n",
    "    percent = round(data_set.isna().sum().sort_values(ascending=False)/len(data_set)*100,2)\n",
    "    return pd.concat([missings,percent], axis=1, keys=['Missing','Percentage'])"
   ]
  },
  {
   "cell_type": "code",
   "execution_count": 6,
   "metadata": {},
   "outputs": [],
   "source": [
    "def missing_precent(data_column):\n",
    "    percent=str((data_column.isnull().sum()/len(train))*100)+str(\"%\")    \n",
    "    return percent"
   ]
  },
  {
   "cell_type": "code",
   "execution_count": 7,
   "metadata": {},
   "outputs": [],
   "source": [
    "def DT_Classifier(X,y):\n",
    "    clf = DecisionTreeClassifier()\n",
    "    mod =clf.fit(X, y)\n",
    "    return mod"
   ]
  },
  {
   "cell_type": "code",
   "execution_count": 8,
   "metadata": {},
   "outputs": [],
   "source": [
    "def LR_Classifier(X, y):\n",
    "    clf = LogisticRegression()\n",
    "    mod =clf.fit(X,y)   \n",
    "    return mod"
   ]
  },
  {
   "cell_type": "code",
   "execution_count": 9,
   "metadata": {},
   "outputs": [],
   "source": [
    "def RTF_Classifier(X,y):\n",
    "    clf = RandomForestClassifier()\n",
    "    mod = clf.fit(X,y)\n",
    "    return mod\n",
    "    "
   ]
  },
  {
   "cell_type": "code",
   "execution_count": 10,
   "metadata": {},
   "outputs": [],
   "source": [
    "def Knn_Classifier(X, y, n_neighbors):\n",
    "    clf = KNeighborsClassifier(n_neighbors)\n",
    "    mod = clf.fit(X,y)\n",
    "    return mod"
   ]
  },
  {
   "cell_type": "code",
   "execution_count": 11,
   "metadata": {},
   "outputs": [],
   "source": [
    "def GNB_Classifier(X,y):\n",
    "    clf = GaussianNB()\n",
    "    mod = clf.fit(X,y)\n",
    "    return mod"
   ]
  },
  {
   "cell_type": "code",
   "execution_count": 12,
   "metadata": {},
   "outputs": [],
   "source": [
    "def SVM_Classifier(X,y):\n",
    "    clf = svm.SVC(kernel='rbf', C=0.1, gamma=0.1)\n",
    "    mod = clf.fit(X,y)\n",
    "    return mod"
   ]
  },
  {
   "cell_type": "code",
   "execution_count": 13,
   "metadata": {},
   "outputs": [],
   "source": [
    "def  AB_Classifier(X,y):\n",
    "    clf = AdaBoostClassifier(n_estimators=900, random_state=0, learning_rate=0.01)\n",
    "    mod.fit(X,y)\n",
    "    return mod\n"
   ]
  },
  {
   "cell_type": "code",
   "execution_count": 14,
   "metadata": {},
   "outputs": [],
   "source": [
    "def XGBoost_Classifier(X,y):\n",
    "    #clf = xg.XGBClassifier(n_estimators=900, learning_rate=0.1)\n",
    "    clf = xg.XGBClassifier()\n",
    "\n",
    "    mod.fit(X,y)\n",
    "    return mod"
   ]
  },
  {
   "cell_type": "code",
   "execution_count": 15,
   "metadata": {},
   "outputs": [],
   "source": [
    "def Bagging_Classifier(X,y):\n",
    "    from sklearn.model_selection import StratifiedShuffleSplit, cross_val_score\n",
    "    from sklearn.ensemble import BaggingClassifier\n",
    "    from sklearn.model_selection import GridSearchCV, StratifiedKFold\n",
    "    \n",
    "    n_estimators = [10,30,50,70,80,150,160, 170,175,180,185];\n",
    "    cv = StratifiedShuffleSplit(n_splits=10, test_size=.30, random_state=15)\n",
    "\n",
    "    parameters = {'n_estimators':n_estimators,        \n",
    "        }\n",
    "    grid = GridSearchCV(BaggingClassifier(base_estimator= None, ## If None, then the base estimator is a decision tree.\n",
    "                                      bootstrap_features=False),\n",
    "                                 param_grid=parameters,\n",
    "                                 cv=cv,\n",
    "                                 n_jobs = -1)\n",
    "    mod=grid.fit(X,y) \n",
    "    print (\"best grid\",grid.best_score_)\n",
    "    print (\"best params\",grid.best_params_)\n",
    "    print (\"best_estimator\",grid.best_estimator_)\n",
    "    bagging_grid = grid.best_estimator_\n",
    "    print('bagging grid score',bagging_grid.score(X,y))\n",
    "    return mod"
   ]
  },
  {
   "cell_type": "code",
   "execution_count": 16,
   "metadata": {},
   "outputs": [],
   "source": [
    "\n",
    "# Load the Datasets\n",
    "\n",
    "import os\n",
    "\n",
    "dir_name = \"/Users/k/courses/kaggle/titanic/data\"\n",
    "\n",
    "#for dirname, _, filenames in os.walk(dir_name):\n",
    " #   for filename in filenames:    \n",
    "  #      print(os.path.join(dirname, filename))\n",
    "\n",
    "titanic_train = os.path.join(dir_name,'train.csv')\n",
    "titanic_test  = os.path.join(dir_name,'test.csv')\n",
    "titanic_gs    = os.path.join(dir_name,'gender_submission.csv')\n",
    "\n",
    "train = pd.read_csv(titanic_train)\n",
    "test  = pd.read_csv(titanic_test)\n",
    "gs    = pd.read_csv(titanic_gs)\n",
    "\n",
    "all_data =[train,test]\n"
   ]
  },
  {
   "cell_type": "raw",
   "metadata": {},
   "source": [
    "# Pandas profiling Train Set\n",
    "#train.profile_report(style={'full_width':True})\n",
    "train.profile_report()\n",
    "\n",
    "#pp.ProfileReport(train)"
   ]
  },
  {
   "cell_type": "raw",
   "metadata": {},
   "source": [
    "### Pandas profiling Test Set\n",
    "#df.profile_report(style={'full_width':True})\n",
    "#test.profile_report()\n",
    "pp.ProfileReport(test)"
   ]
  },
  {
   "cell_type": "code",
   "execution_count": 17,
   "metadata": {},
   "outputs": [
    {
     "name": "stdout",
     "output_type": "stream",
     "text": [
      "\n",
      "train shape: (891, 12)  test shape (418, 11) \n",
      "\n"
     ]
    }
   ],
   "source": [
    "# Data shapes\n",
    "\n",
    "print(\"\\ntrain shape:\",train.shape,\" test shape\",test.shape,\"\\n\")\n"
   ]
  },
  {
   "cell_type": "code",
   "execution_count": 18,
   "metadata": {},
   "outputs": [
    {
     "name": "stdout",
     "output_type": "stream",
     "text": [
      "Missing values for train:\n"
     ]
    },
    {
     "data": {
      "text/html": [
       "<div>\n",
       "<style scoped>\n",
       "    .dataframe tbody tr th:only-of-type {\n",
       "        vertical-align: middle;\n",
       "    }\n",
       "\n",
       "    .dataframe tbody tr th {\n",
       "        vertical-align: top;\n",
       "    }\n",
       "\n",
       "    .dataframe thead th {\n",
       "        text-align: right;\n",
       "    }\n",
       "</style>\n",
       "<table border=\"1\" class=\"dataframe\">\n",
       "  <thead>\n",
       "    <tr style=\"text-align: right;\">\n",
       "      <th></th>\n",
       "      <th>Missing</th>\n",
       "      <th>Percentage</th>\n",
       "    </tr>\n",
       "  </thead>\n",
       "  <tbody>\n",
       "    <tr>\n",
       "      <th>Cabin</th>\n",
       "      <td>687</td>\n",
       "      <td>77.10</td>\n",
       "    </tr>\n",
       "    <tr>\n",
       "      <th>Age</th>\n",
       "      <td>177</td>\n",
       "      <td>19.87</td>\n",
       "    </tr>\n",
       "    <tr>\n",
       "      <th>Embarked</th>\n",
       "      <td>2</td>\n",
       "      <td>0.22</td>\n",
       "    </tr>\n",
       "    <tr>\n",
       "      <th>Fare</th>\n",
       "      <td>0</td>\n",
       "      <td>0.00</td>\n",
       "    </tr>\n",
       "    <tr>\n",
       "      <th>Ticket</th>\n",
       "      <td>0</td>\n",
       "      <td>0.00</td>\n",
       "    </tr>\n",
       "    <tr>\n",
       "      <th>Parch</th>\n",
       "      <td>0</td>\n",
       "      <td>0.00</td>\n",
       "    </tr>\n",
       "    <tr>\n",
       "      <th>SibSp</th>\n",
       "      <td>0</td>\n",
       "      <td>0.00</td>\n",
       "    </tr>\n",
       "    <tr>\n",
       "      <th>Sex</th>\n",
       "      <td>0</td>\n",
       "      <td>0.00</td>\n",
       "    </tr>\n",
       "    <tr>\n",
       "      <th>Name</th>\n",
       "      <td>0</td>\n",
       "      <td>0.00</td>\n",
       "    </tr>\n",
       "    <tr>\n",
       "      <th>Pclass</th>\n",
       "      <td>0</td>\n",
       "      <td>0.00</td>\n",
       "    </tr>\n",
       "    <tr>\n",
       "      <th>Survived</th>\n",
       "      <td>0</td>\n",
       "      <td>0.00</td>\n",
       "    </tr>\n",
       "    <tr>\n",
       "      <th>PassengerId</th>\n",
       "      <td>0</td>\n",
       "      <td>0.00</td>\n",
       "    </tr>\n",
       "  </tbody>\n",
       "</table>\n",
       "</div>"
      ],
      "text/plain": [
       "             Missing  Percentage\n",
       "Cabin            687       77.10\n",
       "Age              177       19.87\n",
       "Embarked           2        0.22\n",
       "Fare               0        0.00\n",
       "Ticket             0        0.00\n",
       "Parch              0        0.00\n",
       "SibSp              0        0.00\n",
       "Sex                0        0.00\n",
       "Name               0        0.00\n",
       "Pclass             0        0.00\n",
       "Survived           0        0.00\n",
       "PassengerId        0        0.00"
      ]
     },
     "execution_count": 18,
     "metadata": {},
     "output_type": "execute_result"
    }
   ],
   "source": [
    "#check for Null values\n",
    "\n",
    "\n",
    "print(\"Missing values for train:\")\n",
    "missing_values(train)\n",
    "\n",
    "#print (\"\\n missing values for X_train\", train.isnull().sum())\n",
    "#print (\"missing values for X_test\", test.isnull().sum())\n"
   ]
  },
  {
   "cell_type": "code",
   "execution_count": 19,
   "metadata": {},
   "outputs": [
    {
     "name": "stdout",
     "output_type": "stream",
     "text": [
      "Missing values for test:\n"
     ]
    },
    {
     "data": {
      "text/plain": [
       "Cabin          327\n",
       "Age             86\n",
       "Fare             1\n",
       "Embarked         0\n",
       "Ticket           0\n",
       "Parch            0\n",
       "SibSp            0\n",
       "Sex              0\n",
       "Name             0\n",
       "Pclass           0\n",
       "PassengerId      0\n",
       "dtype: int64"
      ]
     },
     "execution_count": 19,
     "metadata": {},
     "output_type": "execute_result"
    }
   ],
   "source": [
    "print(\"Missing values for test:\")\n",
    "test.isna().sum().sort_values(ascending=False)"
   ]
  },
  {
   "cell_type": "code",
   "execution_count": 20,
   "metadata": {},
   "outputs": [
    {
     "data": {
      "text/html": [
       "<div>\n",
       "<style scoped>\n",
       "    .dataframe tbody tr th:only-of-type {\n",
       "        vertical-align: middle;\n",
       "    }\n",
       "\n",
       "    .dataframe tbody tr th {\n",
       "        vertical-align: top;\n",
       "    }\n",
       "\n",
       "    .dataframe thead th {\n",
       "        text-align: right;\n",
       "    }\n",
       "</style>\n",
       "<table border=\"1\" class=\"dataframe\">\n",
       "  <thead>\n",
       "    <tr style=\"text-align: right;\">\n",
       "      <th></th>\n",
       "      <th>PassengerId</th>\n",
       "      <th>Pclass</th>\n",
       "      <th>Name</th>\n",
       "      <th>Sex</th>\n",
       "      <th>Age</th>\n",
       "      <th>SibSp</th>\n",
       "      <th>Parch</th>\n",
       "      <th>Ticket</th>\n",
       "      <th>Fare</th>\n",
       "      <th>Cabin</th>\n",
       "      <th>Embarked</th>\n",
       "    </tr>\n",
       "  </thead>\n",
       "  <tbody>\n",
       "    <tr>\n",
       "      <th>152</th>\n",
       "      <td>1044</td>\n",
       "      <td>3</td>\n",
       "      <td>Storey, Mr. Thomas</td>\n",
       "      <td>male</td>\n",
       "      <td>60.5</td>\n",
       "      <td>0</td>\n",
       "      <td>0</td>\n",
       "      <td>3701</td>\n",
       "      <td>NaN</td>\n",
       "      <td>NaN</td>\n",
       "      <td>S</td>\n",
       "    </tr>\n",
       "  </tbody>\n",
       "</table>\n",
       "</div>"
      ],
      "text/plain": [
       "     PassengerId  Pclass                Name   Sex   Age  SibSp  Parch Ticket  \\\n",
       "152         1044       3  Storey, Mr. Thomas  male  60.5      0      0   3701   \n",
       "\n",
       "     Fare Cabin Embarked  \n",
       "152   NaN   NaN        S  "
      ]
     },
     "execution_count": 20,
     "metadata": {},
     "output_type": "execute_result"
    }
   ],
   "source": [
    "# to tell you which feature fare is missing\n",
    "test[test.Fare.isnull()] "
   ]
  },
  {
   "cell_type": "code",
   "execution_count": 21,
   "metadata": {},
   "outputs": [
    {
     "name": "stdout",
     "output_type": "stream",
     "text": [
      "missing data percent for age column: 19.865319865319865%\n"
     ]
    }
   ],
   "source": [
    "print ('missing data percent for age column:',missing_precent(train.Age))"
   ]
  },
  {
   "cell_type": "raw",
   "metadata": {},
   "source": [
    "#Embarked features:\n",
    "\n",
    "* Most of the first  class passenger embarked on S((Southampton)) \n",
    "* Most of the Female also embarked on  S((Southampton))\n",
    "* We have 2 missing values on Embarked which these passengers both female and first class so I would like to fill this empty values with S((Southampton))"
   ]
  },
  {
   "cell_type": "code",
   "execution_count": 22,
   "metadata": {},
   "outputs": [
    {
     "name": "stdout",
     "output_type": "stream",
     "text": [
      "Embarked  Sex   \n",
      "C         female     73\n",
      "          male       95\n",
      "Q         female     36\n",
      "          male       41\n",
      "S         female    203\n",
      "          male      441\n",
      "Name: Pclass, dtype: int64\n"
     ]
    }
   ],
   "source": [
    "#Grouping based on Embarked location, sex and Pclass\n",
    "print(train.groupby(['Embarked','Sex'])['Pclass'].count())"
   ]
  },
  {
   "cell_type": "code",
   "execution_count": 23,
   "metadata": {},
   "outputs": [],
   "source": [
    "#Embarked in train has 2 null values fill it with 'S' since most embarked as 'S'\n",
    "train['Embarked']=train['Embarked'].fillna('S')\n",
    "\n",
    "\n",
    "# Filling the missing value in Fare with the median Fare of 3rd class alone passenger\n",
    "med_fare = test.groupby(['Pclass','SibSp','Parch'])['Fare'].median()[3][0][0]\n",
    "test['Fare'] = test['Fare'].fillna(med_fare)\n"
   ]
  },
  {
   "cell_type": "code",
   "execution_count": 24,
   "metadata": {},
   "outputs": [
    {
     "data": {
      "text/plain": [
       "<seaborn.axisgrid.FacetGrid at 0x1a11490be0>"
      ]
     },
     "execution_count": 24,
     "metadata": {},
     "output_type": "execute_result"
    },
    {
     "data": {
      "image/png": "[encoded data removed]",
      "text/plain": [
       "<Figure size 1080x360 with 3 Axes>"
      ]
     },
     "metadata": {
      "needs_background": "light"
     },
     "output_type": "display_data"
    }
   ],
   "source": [
    "#Surviver based on Embarked and Pclass\n",
    "sns.catplot('Embarked', 'Survived', col='Pclass',data=(train), palette='Set2',kind='point')"
   ]
  },
  {
   "cell_type": "code",
   "execution_count": 25,
   "metadata": {},
   "outputs": [
    {
     "data": {
      "image/png": "[encoded data removed]",
      "text/plain": [
       "<Figure size 1150.5x360 with 3 Axes>"
      ]
     },
     "metadata": {
      "needs_background": "light"
     },
     "output_type": "display_data"
    }
   ],
   "source": [
    "sns.catplot('Pclass','Survived',hue='Sex',col='Embarked',data=train, palette='Set2',kind='point')\n",
    "plt.show()"
   ]
  },
  {
   "cell_type": "markdown",
   "metadata": {},
   "source": [
    "* ** Sibling = *brother, sister, stepbrother, stepsister* **\n",
    "\n",
    "* ** Spouse =* husband, wife * **\n",
    "\n",
    "* The barplot and factor shows\n",
    "    * If the passnger dosen't have any SibSp on boat, Thay have 34% change to survive\n",
    "    * Higher change to survive with 1 or 2 SibSp \n",
    "    * There is no change to survive with 5 0r 8 SibSp, It could be also reason these people from Pclass 3"
   ]
  },
  {
   "cell_type": "code",
   "execution_count": 26,
   "metadata": {},
   "outputs": [
    {
     "data": {
      "image/png": "[encoded data removed]",
      "text/plain": [
       "<Figure size 1440x432 with 2 Axes>"
      ]
     },
     "metadata": {
      "needs_background": "light"
     },
     "output_type": "display_data"
    }
   ],
   "source": [
    "f, ax = plt.subplots(1,2, figsize=(20,6))\n",
    "sns.barplot('SibSp','Survived', data=(train), ax=ax[0], palette='Set3')\n",
    "ax[0].set_title('SibSp vs Survived')\n",
    "sns.catplot('SibSp','Survived',data=(train), ax=ax[1],hue='Pclass', palette='Set2',kind='point')\n",
    "ax[1].set_title('SibSp vs Survived')\n",
    "plt.close(2)\n",
    "plt.show()"
   ]
  },
  {
   "cell_type": "code",
   "execution_count": 27,
   "metadata": {},
   "outputs": [
    {
     "data": {
      "image/png": "[encoded data removed]",
      "text/plain": [
       "<Figure size 648x288 with 2 Axes>"
      ]
     },
     "metadata": {
      "needs_background": "light"
     },
     "output_type": "display_data"
    },
    {
     "data": {
      "image/png": "[encoded data removed]",
      "text/plain": [
       "<Figure size 648x288 with 2 Axes>"
      ]
     },
     "metadata": {
      "needs_background": "light"
     },
     "output_type": "display_data"
    }
   ],
   "source": [
    "# Fill in the age values with a column that has a correlation with age\n",
    "full_set=[train,test]\n",
    "\n",
    "for df in full_set:\n",
    "    data_corr = df.corr().abs()\n",
    "    plt.figure(figsize=(9,4))\n",
    "    sns.heatmap(data_corr, annot=True,cmap='coolwarm')\n",
    "    plt.show()"
   ]
  },
  {
   "cell_type": "code",
   "execution_count": 28,
   "metadata": {},
   "outputs": [],
   "source": [
    "#extract titles\n",
    "\n",
    "for df in full_set:\n",
    "    df['Initial']=0\n",
    "\n",
    "    for i in df:\n",
    "        df['Initial']=df.Name.str.extract('([A-Za-z]+)\\.') \n"
   ]
  },
  {
   "cell_type": "code",
   "execution_count": 29,
   "metadata": {},
   "outputs": [
    {
     "data": {
      "text/html": [
       "<style  type=\"text/css\" >\n",
       "    #T_fae2236e_0617_11ea_b4b6_a8667f0b6093row0_col0 {\n",
       "            background-color:  #ffffd9;\n",
       "            color:  #000000;\n",
       "        }    #T_fae2236e_0617_11ea_b4b6_a8667f0b6093row0_col1 {\n",
       "            background-color:  #ffffd9;\n",
       "            color:  #000000;\n",
       "        }    #T_fae2236e_0617_11ea_b4b6_a8667f0b6093row0_col2 {\n",
       "            background-color:  #081d58;\n",
       "            color:  #f1f1f1;\n",
       "        }    #T_fae2236e_0617_11ea_b4b6_a8667f0b6093row0_col3 {\n",
       "            background-color:  #ffffd9;\n",
       "            color:  #000000;\n",
       "        }    #T_fae2236e_0617_11ea_b4b6_a8667f0b6093row0_col4 {\n",
       "            background-color:  #ffffd9;\n",
       "            color:  #000000;\n",
       "        }    #T_fae2236e_0617_11ea_b4b6_a8667f0b6093row0_col5 {\n",
       "            background-color:  #ffffd9;\n",
       "            color:  #000000;\n",
       "        }    #T_fae2236e_0617_11ea_b4b6_a8667f0b6093row0_col6 {\n",
       "            background-color:  #081d58;\n",
       "            color:  #f1f1f1;\n",
       "        }    #T_fae2236e_0617_11ea_b4b6_a8667f0b6093row0_col7 {\n",
       "            background-color:  #ffffd9;\n",
       "            color:  #000000;\n",
       "        }    #T_fae2236e_0617_11ea_b4b6_a8667f0b6093row0_col8 {\n",
       "            background-color:  #ffffd9;\n",
       "            color:  #000000;\n",
       "        }    #T_fae2236e_0617_11ea_b4b6_a8667f0b6093row0_col9 {\n",
       "            background-color:  #081d58;\n",
       "            color:  #f1f1f1;\n",
       "        }    #T_fae2236e_0617_11ea_b4b6_a8667f0b6093row0_col10 {\n",
       "            background-color:  #081d58;\n",
       "            color:  #f1f1f1;\n",
       "        }    #T_fae2236e_0617_11ea_b4b6_a8667f0b6093row0_col11 {\n",
       "            background-color:  #081d58;\n",
       "            color:  #f1f1f1;\n",
       "        }    #T_fae2236e_0617_11ea_b4b6_a8667f0b6093row0_col12 {\n",
       "            background-color:  #ffffd9;\n",
       "            color:  #000000;\n",
       "        }    #T_fae2236e_0617_11ea_b4b6_a8667f0b6093row0_col13 {\n",
       "            background-color:  #081d58;\n",
       "            color:  #f1f1f1;\n",
       "        }    #T_fae2236e_0617_11ea_b4b6_a8667f0b6093row0_col14 {\n",
       "            background-color:  #081d58;\n",
       "            color:  #f1f1f1;\n",
       "        }    #T_fae2236e_0617_11ea_b4b6_a8667f0b6093row0_col15 {\n",
       "            background-color:  #ffffd9;\n",
       "            color:  #000000;\n",
       "        }    #T_fae2236e_0617_11ea_b4b6_a8667f0b6093row0_col16 {\n",
       "            background-color:  #ffffd9;\n",
       "            color:  #000000;\n",
       "        }    #T_fae2236e_0617_11ea_b4b6_a8667f0b6093row1_col0 {\n",
       "            background-color:  #081d58;\n",
       "            color:  #f1f1f1;\n",
       "        }    #T_fae2236e_0617_11ea_b4b6_a8667f0b6093row1_col1 {\n",
       "            background-color:  #081d58;\n",
       "            color:  #f1f1f1;\n",
       "        }    #T_fae2236e_0617_11ea_b4b6_a8667f0b6093row1_col2 {\n",
       "            background-color:  #ffffd9;\n",
       "            color:  #000000;\n",
       "        }    #T_fae2236e_0617_11ea_b4b6_a8667f0b6093row1_col3 {\n",
       "            background-color:  #081d58;\n",
       "            color:  #f1f1f1;\n",
       "        }    #T_fae2236e_0617_11ea_b4b6_a8667f0b6093row1_col4 {\n",
       "            background-color:  #081d58;\n",
       "            color:  #f1f1f1;\n",
       "        }    #T_fae2236e_0617_11ea_b4b6_a8667f0b6093row1_col5 {\n",
       "            background-color:  #081d58;\n",
       "            color:  #f1f1f1;\n",
       "        }    #T_fae2236e_0617_11ea_b4b6_a8667f0b6093row1_col6 {\n",
       "            background-color:  #ffffd9;\n",
       "            color:  #000000;\n",
       "        }    #T_fae2236e_0617_11ea_b4b6_a8667f0b6093row1_col7 {\n",
       "            background-color:  #081d58;\n",
       "            color:  #f1f1f1;\n",
       "        }    #T_fae2236e_0617_11ea_b4b6_a8667f0b6093row1_col8 {\n",
       "            background-color:  #081d58;\n",
       "            color:  #f1f1f1;\n",
       "        }    #T_fae2236e_0617_11ea_b4b6_a8667f0b6093row1_col9 {\n",
       "            background-color:  #ffffd9;\n",
       "            color:  #000000;\n",
       "        }    #T_fae2236e_0617_11ea_b4b6_a8667f0b6093row1_col10 {\n",
       "            background-color:  #ffffd9;\n",
       "            color:  #000000;\n",
       "        }    #T_fae2236e_0617_11ea_b4b6_a8667f0b6093row1_col11 {\n",
       "            background-color:  #ffffd9;\n",
       "            color:  #000000;\n",
       "        }    #T_fae2236e_0617_11ea_b4b6_a8667f0b6093row1_col12 {\n",
       "            background-color:  #081d58;\n",
       "            color:  #f1f1f1;\n",
       "        }    #T_fae2236e_0617_11ea_b4b6_a8667f0b6093row1_col13 {\n",
       "            background-color:  #ffffd9;\n",
       "            color:  #000000;\n",
       "        }    #T_fae2236e_0617_11ea_b4b6_a8667f0b6093row1_col14 {\n",
       "            background-color:  #ffffd9;\n",
       "            color:  #000000;\n",
       "        }    #T_fae2236e_0617_11ea_b4b6_a8667f0b6093row1_col15 {\n",
       "            background-color:  #081d58;\n",
       "            color:  #f1f1f1;\n",
       "        }    #T_fae2236e_0617_11ea_b4b6_a8667f0b6093row1_col16 {\n",
       "            background-color:  #081d58;\n",
       "            color:  #f1f1f1;\n",
       "        }</style><table id=\"T_fae2236e_0617_11ea_b4b6_a8667f0b6093\" ><thead>    <tr>        <th class=\"index_name level0\" >Initial</th>        <th class=\"col_heading level0 col0\" >Capt</th>        <th class=\"col_heading level0 col1\" >Col</th>        <th class=\"col_heading level0 col2\" >Countess</th>        <th class=\"col_heading level0 col3\" >Don</th>        <th class=\"col_heading level0 col4\" >Dr</th>        <th class=\"col_heading level0 col5\" >Jonkheer</th>        <th class=\"col_heading level0 col6\" >Lady</th>        <th class=\"col_heading level0 col7\" >Major</th>        <th class=\"col_heading level0 col8\" >Master</th>        <th class=\"col_heading level0 col9\" >Miss</th>        <th class=\"col_heading level0 col10\" >Mlle</th>        <th class=\"col_heading level0 col11\" >Mme</th>        <th class=\"col_heading level0 col12\" >Mr</th>        <th class=\"col_heading level0 col13\" >Mrs</th>        <th class=\"col_heading level0 col14\" >Ms</th>        <th class=\"col_heading level0 col15\" >Rev</th>        <th class=\"col_heading level0 col16\" >Sir</th>    </tr>    <tr>        <th class=\"index_name level0\" >Sex</th>        <th class=\"blank\" ></th>        <th class=\"blank\" ></th>        <th class=\"blank\" ></th>        <th class=\"blank\" ></th>        <th class=\"blank\" ></th>        <th class=\"blank\" ></th>        <th class=\"blank\" ></th>        <th class=\"blank\" ></th>        <th class=\"blank\" ></th>        <th class=\"blank\" ></th>        <th class=\"blank\" ></th>        <th class=\"blank\" ></th>        <th class=\"blank\" ></th>        <th class=\"blank\" ></th>        <th class=\"blank\" ></th>        <th class=\"blank\" ></th>        <th class=\"blank\" ></th>    </tr></thead><tbody>\n",
       "                <tr>\n",
       "                        <th id=\"T_fae2236e_0617_11ea_b4b6_a8667f0b6093level0_row0\" class=\"row_heading level0 row0\" >female</th>\n",
       "                        <td id=\"T_fae2236e_0617_11ea_b4b6_a8667f0b6093row0_col0\" class=\"data row0 col0\" >0</td>\n",
       "                        <td id=\"T_fae2236e_0617_11ea_b4b6_a8667f0b6093row0_col1\" class=\"data row0 col1\" >0</td>\n",
       "                        <td id=\"T_fae2236e_0617_11ea_b4b6_a8667f0b6093row0_col2\" class=\"data row0 col2\" >1</td>\n",
       "                        <td id=\"T_fae2236e_0617_11ea_b4b6_a8667f0b6093row0_col3\" class=\"data row0 col3\" >0</td>\n",
       "                        <td id=\"T_fae2236e_0617_11ea_b4b6_a8667f0b6093row0_col4\" class=\"data row0 col4\" >1</td>\n",
       "                        <td id=\"T_fae2236e_0617_11ea_b4b6_a8667f0b6093row0_col5\" class=\"data row0 col5\" >0</td>\n",
       "                        <td id=\"T_fae2236e_0617_11ea_b4b6_a8667f0b6093row0_col6\" class=\"data row0 col6\" >1</td>\n",
       "                        <td id=\"T_fae2236e_0617_11ea_b4b6_a8667f0b6093row0_col7\" class=\"data row0 col7\" >0</td>\n",
       "                        <td id=\"T_fae2236e_0617_11ea_b4b6_a8667f0b6093row0_col8\" class=\"data row0 col8\" >0</td>\n",
       "                        <td id=\"T_fae2236e_0617_11ea_b4b6_a8667f0b6093row0_col9\" class=\"data row0 col9\" >182</td>\n",
       "                        <td id=\"T_fae2236e_0617_11ea_b4b6_a8667f0b6093row0_col10\" class=\"data row0 col10\" >2</td>\n",
       "                        <td id=\"T_fae2236e_0617_11ea_b4b6_a8667f0b6093row0_col11\" class=\"data row0 col11\" >1</td>\n",
       "                        <td id=\"T_fae2236e_0617_11ea_b4b6_a8667f0b6093row0_col12\" class=\"data row0 col12\" >0</td>\n",
       "                        <td id=\"T_fae2236e_0617_11ea_b4b6_a8667f0b6093row0_col13\" class=\"data row0 col13\" >125</td>\n",
       "                        <td id=\"T_fae2236e_0617_11ea_b4b6_a8667f0b6093row0_col14\" class=\"data row0 col14\" >1</td>\n",
       "                        <td id=\"T_fae2236e_0617_11ea_b4b6_a8667f0b6093row0_col15\" class=\"data row0 col15\" >0</td>\n",
       "                        <td id=\"T_fae2236e_0617_11ea_b4b6_a8667f0b6093row0_col16\" class=\"data row0 col16\" >0</td>\n",
       "            </tr>\n",
       "            <tr>\n",
       "                        <th id=\"T_fae2236e_0617_11ea_b4b6_a8667f0b6093level0_row1\" class=\"row_heading level0 row1\" >male</th>\n",
       "                        <td id=\"T_fae2236e_0617_11ea_b4b6_a8667f0b6093row1_col0\" class=\"data row1 col0\" >1</td>\n",
       "                        <td id=\"T_fae2236e_0617_11ea_b4b6_a8667f0b6093row1_col1\" class=\"data row1 col1\" >2</td>\n",
       "                        <td id=\"T_fae2236e_0617_11ea_b4b6_a8667f0b6093row1_col2\" class=\"data row1 col2\" >0</td>\n",
       "                        <td id=\"T_fae2236e_0617_11ea_b4b6_a8667f0b6093row1_col3\" class=\"data row1 col3\" >1</td>\n",
       "                        <td id=\"T_fae2236e_0617_11ea_b4b6_a8667f0b6093row1_col4\" class=\"data row1 col4\" >6</td>\n",
       "                        <td id=\"T_fae2236e_0617_11ea_b4b6_a8667f0b6093row1_col5\" class=\"data row1 col5\" >1</td>\n",
       "                        <td id=\"T_fae2236e_0617_11ea_b4b6_a8667f0b6093row1_col6\" class=\"data row1 col6\" >0</td>\n",
       "                        <td id=\"T_fae2236e_0617_11ea_b4b6_a8667f0b6093row1_col7\" class=\"data row1 col7\" >2</td>\n",
       "                        <td id=\"T_fae2236e_0617_11ea_b4b6_a8667f0b6093row1_col8\" class=\"data row1 col8\" >40</td>\n",
       "                        <td id=\"T_fae2236e_0617_11ea_b4b6_a8667f0b6093row1_col9\" class=\"data row1 col9\" >0</td>\n",
       "                        <td id=\"T_fae2236e_0617_11ea_b4b6_a8667f0b6093row1_col10\" class=\"data row1 col10\" >0</td>\n",
       "                        <td id=\"T_fae2236e_0617_11ea_b4b6_a8667f0b6093row1_col11\" class=\"data row1 col11\" >0</td>\n",
       "                        <td id=\"T_fae2236e_0617_11ea_b4b6_a8667f0b6093row1_col12\" class=\"data row1 col12\" >517</td>\n",
       "                        <td id=\"T_fae2236e_0617_11ea_b4b6_a8667f0b6093row1_col13\" class=\"data row1 col13\" >0</td>\n",
       "                        <td id=\"T_fae2236e_0617_11ea_b4b6_a8667f0b6093row1_col14\" class=\"data row1 col14\" >0</td>\n",
       "                        <td id=\"T_fae2236e_0617_11ea_b4b6_a8667f0b6093row1_col15\" class=\"data row1 col15\" >6</td>\n",
       "                        <td id=\"T_fae2236e_0617_11ea_b4b6_a8667f0b6093row1_col16\" class=\"data row1 col16\" >1</td>\n",
       "            </tr>\n",
       "    </tbody></table>"
      ],
      "text/plain": [
       "<pandas.io.formats.style.Styler at 0x1a12196390>"
      ]
     },
     "execution_count": 29,
     "metadata": {},
     "output_type": "execute_result"
    }
   ],
   "source": [
    "#show the frequency of the titles for male and female\n",
    "pd.crosstab(train.Initial,train.Sex).T.style.background_gradient(cmap=\"YlGnBu\")"
   ]
  },
  {
   "cell_type": "code",
   "execution_count": 30,
   "metadata": {},
   "outputs": [
    {
     "data": {
      "text/html": [
       "<style  type=\"text/css\" >\n",
       "    #T_fafa65c8_0617_11ea_ae89_a8667f0b6093row0_col0 {\n",
       "            background-color:  #8dd3c7;\n",
       "            color:  #000000;\n",
       "        }    #T_fafa65c8_0617_11ea_ae89_a8667f0b6093row0_col1 {\n",
       "            background-color:  #b3de69;\n",
       "            color:  #000000;\n",
       "        }    #T_fafa65c8_0617_11ea_ae89_a8667f0b6093row0_col2 {\n",
       "            background-color:  #8dd3c7;\n",
       "            color:  #000000;\n",
       "        }    #T_fafa65c8_0617_11ea_ae89_a8667f0b6093row1_col0 {\n",
       "            background-color:  #bc80bd;\n",
       "            color:  #000000;\n",
       "        }    #T_fafa65c8_0617_11ea_ae89_a8667f0b6093row1_col1 {\n",
       "            background-color:  #8dd3c7;\n",
       "            color:  #000000;\n",
       "        }    #T_fafa65c8_0617_11ea_ae89_a8667f0b6093row1_col2 {\n",
       "            background-color:  #fdb462;\n",
       "            color:  #000000;\n",
       "        }    #T_fafa65c8_0617_11ea_ae89_a8667f0b6093row2_col0 {\n",
       "            background-color:  #ffed6f;\n",
       "            color:  #000000;\n",
       "        }    #T_fafa65c8_0617_11ea_ae89_a8667f0b6093row2_col1 {\n",
       "            background-color:  #ffed6f;\n",
       "            color:  #000000;\n",
       "        }    #T_fafa65c8_0617_11ea_ae89_a8667f0b6093row2_col2 {\n",
       "            background-color:  #ffed6f;\n",
       "            color:  #000000;\n",
       "        }</style><table id=\"T_fafa65c8_0617_11ea_ae89_a8667f0b6093\" ><thead>    <tr>        <th class=\"index_name level0\" >Survived</th>        <th class=\"col_heading level0 col0\" >0</th>        <th class=\"col_heading level0 col1\" >1</th>        <th class=\"col_heading level0 col2\" >All</th>    </tr>    <tr>        <th class=\"index_name level0\" >Sex</th>        <th class=\"blank\" ></th>        <th class=\"blank\" ></th>        <th class=\"blank\" ></th>    </tr></thead><tbody>\n",
       "                <tr>\n",
       "                        <th id=\"T_fafa65c8_0617_11ea_ae89_a8667f0b6093level0_row0\" class=\"row_heading level0 row0\" >female</th>\n",
       "                        <td id=\"T_fafa65c8_0617_11ea_ae89_a8667f0b6093row0_col0\" class=\"data row0 col0\" >81</td>\n",
       "                        <td id=\"T_fafa65c8_0617_11ea_ae89_a8667f0b6093row0_col1\" class=\"data row0 col1\" >233</td>\n",
       "                        <td id=\"T_fafa65c8_0617_11ea_ae89_a8667f0b6093row0_col2\" class=\"data row0 col2\" >314</td>\n",
       "            </tr>\n",
       "            <tr>\n",
       "                        <th id=\"T_fafa65c8_0617_11ea_ae89_a8667f0b6093level0_row1\" class=\"row_heading level0 row1\" >male</th>\n",
       "                        <td id=\"T_fafa65c8_0617_11ea_ae89_a8667f0b6093row1_col0\" class=\"data row1 col0\" >468</td>\n",
       "                        <td id=\"T_fafa65c8_0617_11ea_ae89_a8667f0b6093row1_col1\" class=\"data row1 col1\" >109</td>\n",
       "                        <td id=\"T_fafa65c8_0617_11ea_ae89_a8667f0b6093row1_col2\" class=\"data row1 col2\" >577</td>\n",
       "            </tr>\n",
       "            <tr>\n",
       "                        <th id=\"T_fafa65c8_0617_11ea_ae89_a8667f0b6093level0_row2\" class=\"row_heading level0 row2\" >All</th>\n",
       "                        <td id=\"T_fafa65c8_0617_11ea_ae89_a8667f0b6093row2_col0\" class=\"data row2 col0\" >549</td>\n",
       "                        <td id=\"T_fafa65c8_0617_11ea_ae89_a8667f0b6093row2_col1\" class=\"data row2 col1\" >342</td>\n",
       "                        <td id=\"T_fafa65c8_0617_11ea_ae89_a8667f0b6093row2_col2\" class=\"data row2 col2\" >891</td>\n",
       "            </tr>\n",
       "    </tbody></table>"
      ],
      "text/plain": [
       "<pandas.io.formats.style.Styler at 0x1a12204630>"
      ]
     },
     "execution_count": 30,
     "metadata": {},
     "output_type": "execute_result"
    }
   ],
   "source": [
    "#Survived\n",
    "pd.crosstab(train.Sex,train.Survived,margins=True).style.background_gradient(cmap='Set3')"
   ]
  },
  {
   "cell_type": "code",
   "execution_count": 31,
   "metadata": {},
   "outputs": [
    {
     "data": {
      "text/html": [
       "<style  type=\"text/css\" >\n",
       "    #T_fb0c89b0_0617_11ea_8116_a8667f0b6093row0_col0 {\n",
       "            background-color:  #8dd3c7;\n",
       "            color:  #000000;\n",
       "        }    #T_fb0c89b0_0617_11ea_8116_a8667f0b6093row0_col1 {\n",
       "            background-color:  #bebada;\n",
       "            color:  #000000;\n",
       "        }    #T_fb0c89b0_0617_11ea_8116_a8667f0b6093row0_col2 {\n",
       "            background-color:  #8dd3c7;\n",
       "            color:  #000000;\n",
       "        }    #T_fb0c89b0_0617_11ea_8116_a8667f0b6093row1_col0 {\n",
       "            background-color:  #8dd3c7;\n",
       "            color:  #000000;\n",
       "        }    #T_fb0c89b0_0617_11ea_8116_a8667f0b6093row1_col1 {\n",
       "            background-color:  #8dd3c7;\n",
       "            color:  #000000;\n",
       "        }    #T_fb0c89b0_0617_11ea_8116_a8667f0b6093row1_col2 {\n",
       "            background-color:  #8dd3c7;\n",
       "            color:  #000000;\n",
       "        }    #T_fb0c89b0_0617_11ea_8116_a8667f0b6093row2_col0 {\n",
       "            background-color:  #fccde5;\n",
       "            color:  #000000;\n",
       "        }    #T_fb0c89b0_0617_11ea_8116_a8667f0b6093row2_col1 {\n",
       "            background-color:  #ffffb3;\n",
       "            color:  #000000;\n",
       "        }    #T_fb0c89b0_0617_11ea_8116_a8667f0b6093row2_col2 {\n",
       "            background-color:  #fdb462;\n",
       "            color:  #000000;\n",
       "        }    #T_fb0c89b0_0617_11ea_8116_a8667f0b6093row3_col0 {\n",
       "            background-color:  #ffed6f;\n",
       "            color:  #000000;\n",
       "        }    #T_fb0c89b0_0617_11ea_8116_a8667f0b6093row3_col1 {\n",
       "            background-color:  #ffed6f;\n",
       "            color:  #000000;\n",
       "        }    #T_fb0c89b0_0617_11ea_8116_a8667f0b6093row3_col2 {\n",
       "            background-color:  #ffed6f;\n",
       "            color:  #000000;\n",
       "        }</style><table id=\"T_fb0c89b0_0617_11ea_8116_a8667f0b6093\" ><thead>    <tr>        <th class=\"index_name level0\" >Survived</th>        <th class=\"col_heading level0 col0\" >0</th>        <th class=\"col_heading level0 col1\" >1</th>        <th class=\"col_heading level0 col2\" >All</th>    </tr>    <tr>        <th class=\"index_name level0\" >Pclass</th>        <th class=\"blank\" ></th>        <th class=\"blank\" ></th>        <th class=\"blank\" ></th>    </tr></thead><tbody>\n",
       "                <tr>\n",
       "                        <th id=\"T_fb0c89b0_0617_11ea_8116_a8667f0b6093level0_row0\" class=\"row_heading level0 row0\" >1</th>\n",
       "                        <td id=\"T_fb0c89b0_0617_11ea_8116_a8667f0b6093row0_col0\" class=\"data row0 col0\" >80</td>\n",
       "                        <td id=\"T_fb0c89b0_0617_11ea_8116_a8667f0b6093row0_col1\" class=\"data row0 col1\" >136</td>\n",
       "                        <td id=\"T_fb0c89b0_0617_11ea_8116_a8667f0b6093row0_col2\" class=\"data row0 col2\" >216</td>\n",
       "            </tr>\n",
       "            <tr>\n",
       "                        <th id=\"T_fb0c89b0_0617_11ea_8116_a8667f0b6093level0_row1\" class=\"row_heading level0 row1\" >2</th>\n",
       "                        <td id=\"T_fb0c89b0_0617_11ea_8116_a8667f0b6093row1_col0\" class=\"data row1 col0\" >97</td>\n",
       "                        <td id=\"T_fb0c89b0_0617_11ea_8116_a8667f0b6093row1_col1\" class=\"data row1 col1\" >87</td>\n",
       "                        <td id=\"T_fb0c89b0_0617_11ea_8116_a8667f0b6093row1_col2\" class=\"data row1 col2\" >184</td>\n",
       "            </tr>\n",
       "            <tr>\n",
       "                        <th id=\"T_fb0c89b0_0617_11ea_8116_a8667f0b6093level0_row2\" class=\"row_heading level0 row2\" >3</th>\n",
       "                        <td id=\"T_fb0c89b0_0617_11ea_8116_a8667f0b6093row2_col0\" class=\"data row2 col0\" >372</td>\n",
       "                        <td id=\"T_fb0c89b0_0617_11ea_8116_a8667f0b6093row2_col1\" class=\"data row2 col1\" >119</td>\n",
       "                        <td id=\"T_fb0c89b0_0617_11ea_8116_a8667f0b6093row2_col2\" class=\"data row2 col2\" >491</td>\n",
       "            </tr>\n",
       "            <tr>\n",
       "                        <th id=\"T_fb0c89b0_0617_11ea_8116_a8667f0b6093level0_row3\" class=\"row_heading level0 row3\" >All</th>\n",
       "                        <td id=\"T_fb0c89b0_0617_11ea_8116_a8667f0b6093row3_col0\" class=\"data row3 col0\" >549</td>\n",
       "                        <td id=\"T_fb0c89b0_0617_11ea_8116_a8667f0b6093row3_col1\" class=\"data row3 col1\" >342</td>\n",
       "                        <td id=\"T_fb0c89b0_0617_11ea_8116_a8667f0b6093row3_col2\" class=\"data row3 col2\" >891</td>\n",
       "            </tr>\n",
       "    </tbody></table>"
      ],
      "text/plain": [
       "<pandas.io.formats.style.Styler at 0x103412ef0>"
      ]
     },
     "execution_count": 31,
     "metadata": {},
     "output_type": "execute_result"
    }
   ],
   "source": [
    "#Survived per class ticket\n",
    "pd.crosstab(train.Pclass,train.Survived,margins=True).style.background_gradient(cmap='Set3')"
   ]
  },
  {
   "cell_type": "code",
   "execution_count": 32,
   "metadata": {},
   "outputs": [
    {
     "data": {
      "text/html": [
       "<style  type=\"text/css\" >\n",
       "    #T_fb1e721a_0617_11ea_b5f9_a8667f0b6093row0_col0 {\n",
       "            background-color:  #8dd3c7;\n",
       "            color:  #000000;\n",
       "        }    #T_fb1e721a_0617_11ea_b5f9_a8667f0b6093row0_col1 {\n",
       "            background-color:  #bebada;\n",
       "            color:  #000000;\n",
       "        }    #T_fb1e721a_0617_11ea_b5f9_a8667f0b6093row0_col2 {\n",
       "            background-color:  #8dd3c7;\n",
       "            color:  #000000;\n",
       "        }    #T_fb1e721a_0617_11ea_b5f9_a8667f0b6093row1_col0 {\n",
       "            background-color:  #8dd3c7;\n",
       "            color:  #000000;\n",
       "        }    #T_fb1e721a_0617_11ea_b5f9_a8667f0b6093row1_col1 {\n",
       "            background-color:  #8dd3c7;\n",
       "            color:  #000000;\n",
       "        }    #T_fb1e721a_0617_11ea_b5f9_a8667f0b6093row1_col2 {\n",
       "            background-color:  #8dd3c7;\n",
       "            color:  #000000;\n",
       "        }    #T_fb1e721a_0617_11ea_b5f9_a8667f0b6093row2_col0 {\n",
       "            background-color:  #fccde5;\n",
       "            color:  #000000;\n",
       "        }    #T_fb1e721a_0617_11ea_b5f9_a8667f0b6093row2_col1 {\n",
       "            background-color:  #ffffb3;\n",
       "            color:  #000000;\n",
       "        }    #T_fb1e721a_0617_11ea_b5f9_a8667f0b6093row2_col2 {\n",
       "            background-color:  #fdb462;\n",
       "            color:  #000000;\n",
       "        }    #T_fb1e721a_0617_11ea_b5f9_a8667f0b6093row3_col0 {\n",
       "            background-color:  #ffed6f;\n",
       "            color:  #000000;\n",
       "        }    #T_fb1e721a_0617_11ea_b5f9_a8667f0b6093row3_col1 {\n",
       "            background-color:  #ffed6f;\n",
       "            color:  #000000;\n",
       "        }    #T_fb1e721a_0617_11ea_b5f9_a8667f0b6093row3_col2 {\n",
       "            background-color:  #ffed6f;\n",
       "            color:  #000000;\n",
       "        }</style><table id=\"T_fb1e721a_0617_11ea_b5f9_a8667f0b6093\" ><thead>    <tr>        <th class=\"index_name level0\" >Survived</th>        <th class=\"col_heading level0 col0\" >0</th>        <th class=\"col_heading level0 col1\" >1</th>        <th class=\"col_heading level0 col2\" >All</th>    </tr>    <tr>        <th class=\"index_name level0\" >Pclass</th>        <th class=\"blank\" ></th>        <th class=\"blank\" ></th>        <th class=\"blank\" ></th>    </tr></thead><tbody>\n",
       "                <tr>\n",
       "                        <th id=\"T_fb1e721a_0617_11ea_b5f9_a8667f0b6093level0_row0\" class=\"row_heading level0 row0\" >1</th>\n",
       "                        <td id=\"T_fb1e721a_0617_11ea_b5f9_a8667f0b6093row0_col0\" class=\"data row0 col0\" >80</td>\n",
       "                        <td id=\"T_fb1e721a_0617_11ea_b5f9_a8667f0b6093row0_col1\" class=\"data row0 col1\" >136</td>\n",
       "                        <td id=\"T_fb1e721a_0617_11ea_b5f9_a8667f0b6093row0_col2\" class=\"data row0 col2\" >216</td>\n",
       "            </tr>\n",
       "            <tr>\n",
       "                        <th id=\"T_fb1e721a_0617_11ea_b5f9_a8667f0b6093level0_row1\" class=\"row_heading level0 row1\" >2</th>\n",
       "                        <td id=\"T_fb1e721a_0617_11ea_b5f9_a8667f0b6093row1_col0\" class=\"data row1 col0\" >97</td>\n",
       "                        <td id=\"T_fb1e721a_0617_11ea_b5f9_a8667f0b6093row1_col1\" class=\"data row1 col1\" >87</td>\n",
       "                        <td id=\"T_fb1e721a_0617_11ea_b5f9_a8667f0b6093row1_col2\" class=\"data row1 col2\" >184</td>\n",
       "            </tr>\n",
       "            <tr>\n",
       "                        <th id=\"T_fb1e721a_0617_11ea_b5f9_a8667f0b6093level0_row2\" class=\"row_heading level0 row2\" >3</th>\n",
       "                        <td id=\"T_fb1e721a_0617_11ea_b5f9_a8667f0b6093row2_col0\" class=\"data row2 col0\" >372</td>\n",
       "                        <td id=\"T_fb1e721a_0617_11ea_b5f9_a8667f0b6093row2_col1\" class=\"data row2 col1\" >119</td>\n",
       "                        <td id=\"T_fb1e721a_0617_11ea_b5f9_a8667f0b6093row2_col2\" class=\"data row2 col2\" >491</td>\n",
       "            </tr>\n",
       "            <tr>\n",
       "                        <th id=\"T_fb1e721a_0617_11ea_b5f9_a8667f0b6093level0_row3\" class=\"row_heading level0 row3\" >All</th>\n",
       "                        <td id=\"T_fb1e721a_0617_11ea_b5f9_a8667f0b6093row3_col0\" class=\"data row3 col0\" >549</td>\n",
       "                        <td id=\"T_fb1e721a_0617_11ea_b5f9_a8667f0b6093row3_col1\" class=\"data row3 col1\" >342</td>\n",
       "                        <td id=\"T_fb1e721a_0617_11ea_b5f9_a8667f0b6093row3_col2\" class=\"data row3 col2\" >891</td>\n",
       "            </tr>\n",
       "    </tbody></table>"
      ],
      "text/plain": [
       "<pandas.io.formats.style.Styler at 0x1a155e8550>"
      ]
     },
     "execution_count": 32,
     "metadata": {},
     "output_type": "execute_result"
    }
   ],
   "source": [
    "# Survival based on gender and cabin class\n",
    "pd.crosstab(train.Pclass,train.Survived,margins=True).style.background_gradient(cmap='Set3')"
   ]
  },
  {
   "cell_type": "code",
   "execution_count": 33,
   "metadata": {},
   "outputs": [
    {
     "name": "stdout",
     "output_type": "stream",
     "text": [
      "(891, 13) (418, 12)\n"
     ]
    }
   ],
   "source": [
    "\n",
    "X_train = train\n",
    "X_test  = test\n",
    "\n",
    "y_train = X_train.Survived\n",
    "\n",
    "\n",
    "#train.describe\n",
    "#display(X_train.info())\n",
    "#display(X_test.info())\n",
    "\n",
    "#print (train.columns)\n",
    "#print (\"test columns: \",test.columns)\n",
    "\n",
    "print(X_train.shape,X_test.shape)\n",
    "\n",
    "\n",
    "\n"
   ]
  },
  {
   "cell_type": "code",
   "execution_count": 34,
   "metadata": {},
   "outputs": [
    {
     "data": {
      "text/html": [
       "<style  type=\"text/css\" >\n",
       "    #T_fb720088_0617_11ea_bffe_a8667f0b6093row0_col0 {\n",
       "            background-color:  #8dd3c7;\n",
       "            color:  #000000;\n",
       "        }    #T_fb720088_0617_11ea_bffe_a8667f0b6093row0_col1 {\n",
       "            background-color:  #bebada;\n",
       "            color:  #000000;\n",
       "        }    #T_fb720088_0617_11ea_bffe_a8667f0b6093row0_col2 {\n",
       "            background-color:  #8dd3c7;\n",
       "            color:  #000000;\n",
       "        }    #T_fb720088_0617_11ea_bffe_a8667f0b6093row0_col3 {\n",
       "            background-color:  #ffffb3;\n",
       "            color:  #000000;\n",
       "        }    #T_fb720088_0617_11ea_bffe_a8667f0b6093row0_col4 {\n",
       "            background-color:  #ffffb3;\n",
       "            color:  #000000;\n",
       "        }    #T_fb720088_0617_11ea_bffe_a8667f0b6093row1_col0 {\n",
       "            background-color:  #8dd3c7;\n",
       "            color:  #000000;\n",
       "        }    #T_fb720088_0617_11ea_bffe_a8667f0b6093row1_col1 {\n",
       "            background-color:  #8dd3c7;\n",
       "            color:  #000000;\n",
       "        }    #T_fb720088_0617_11ea_bffe_a8667f0b6093row1_col2 {\n",
       "            background-color:  #8dd3c7;\n",
       "            color:  #000000;\n",
       "        }    #T_fb720088_0617_11ea_bffe_a8667f0b6093row1_col3 {\n",
       "            background-color:  #8dd3c7;\n",
       "            color:  #000000;\n",
       "        }    #T_fb720088_0617_11ea_bffe_a8667f0b6093row1_col4 {\n",
       "            background-color:  #8dd3c7;\n",
       "            color:  #000000;\n",
       "        }    #T_fb720088_0617_11ea_bffe_a8667f0b6093row2_col0 {\n",
       "            background-color:  #ffffb3;\n",
       "            color:  #000000;\n",
       "        }    #T_fb720088_0617_11ea_bffe_a8667f0b6093row2_col1 {\n",
       "            background-color:  #8dd3c7;\n",
       "            color:  #000000;\n",
       "        }    #T_fb720088_0617_11ea_bffe_a8667f0b6093row2_col2 {\n",
       "            background-color:  #8dd3c7;\n",
       "            color:  #000000;\n",
       "        }    #T_fb720088_0617_11ea_bffe_a8667f0b6093row2_col3 {\n",
       "            background-color:  #ffffb3;\n",
       "            color:  #000000;\n",
       "        }    #T_fb720088_0617_11ea_bffe_a8667f0b6093row2_col4 {\n",
       "            background-color:  #8dd3c7;\n",
       "            color:  #000000;\n",
       "        }    #T_fb720088_0617_11ea_bffe_a8667f0b6093row3_col0 {\n",
       "            background-color:  #8dd3c7;\n",
       "            color:  #000000;\n",
       "        }    #T_fb720088_0617_11ea_bffe_a8667f0b6093row3_col1 {\n",
       "            background-color:  #8dd3c7;\n",
       "            color:  #000000;\n",
       "        }    #T_fb720088_0617_11ea_bffe_a8667f0b6093row3_col2 {\n",
       "            background-color:  #8dd3c7;\n",
       "            color:  #000000;\n",
       "        }    #T_fb720088_0617_11ea_bffe_a8667f0b6093row3_col3 {\n",
       "            background-color:  #8dd3c7;\n",
       "            color:  #000000;\n",
       "        }    #T_fb720088_0617_11ea_bffe_a8667f0b6093row3_col4 {\n",
       "            background-color:  #8dd3c7;\n",
       "            color:  #000000;\n",
       "        }    #T_fb720088_0617_11ea_bffe_a8667f0b6093row4_col0 {\n",
       "            background-color:  #8dd3c7;\n",
       "            color:  #000000;\n",
       "        }    #T_fb720088_0617_11ea_bffe_a8667f0b6093row4_col1 {\n",
       "            background-color:  #8dd3c7;\n",
       "            color:  #000000;\n",
       "        }    #T_fb720088_0617_11ea_bffe_a8667f0b6093row4_col2 {\n",
       "            background-color:  #8dd3c7;\n",
       "            color:  #000000;\n",
       "        }    #T_fb720088_0617_11ea_bffe_a8667f0b6093row4_col3 {\n",
       "            background-color:  #8dd3c7;\n",
       "            color:  #000000;\n",
       "        }    #T_fb720088_0617_11ea_bffe_a8667f0b6093row4_col4 {\n",
       "            background-color:  #8dd3c7;\n",
       "            color:  #000000;\n",
       "        }    #T_fb720088_0617_11ea_bffe_a8667f0b6093row5_col0 {\n",
       "            background-color:  #ffffb3;\n",
       "            color:  #000000;\n",
       "        }    #T_fb720088_0617_11ea_bffe_a8667f0b6093row5_col1 {\n",
       "            background-color:  #ffffb3;\n",
       "            color:  #000000;\n",
       "        }    #T_fb720088_0617_11ea_bffe_a8667f0b6093row5_col2 {\n",
       "            background-color:  #8dd3c7;\n",
       "            color:  #000000;\n",
       "        }    #T_fb720088_0617_11ea_bffe_a8667f0b6093row5_col3 {\n",
       "            background-color:  #8dd3c7;\n",
       "            color:  #000000;\n",
       "        }    #T_fb720088_0617_11ea_bffe_a8667f0b6093row5_col4 {\n",
       "            background-color:  #8dd3c7;\n",
       "            color:  #000000;\n",
       "        }    #T_fb720088_0617_11ea_bffe_a8667f0b6093row6_col0 {\n",
       "            background-color:  #8dd3c7;\n",
       "            color:  #000000;\n",
       "        }    #T_fb720088_0617_11ea_bffe_a8667f0b6093row6_col1 {\n",
       "            background-color:  #bebada;\n",
       "            color:  #000000;\n",
       "        }    #T_fb720088_0617_11ea_bffe_a8667f0b6093row6_col2 {\n",
       "            background-color:  #ffffb3;\n",
       "            color:  #000000;\n",
       "        }    #T_fb720088_0617_11ea_bffe_a8667f0b6093row6_col3 {\n",
       "            background-color:  #fb8072;\n",
       "            color:  #000000;\n",
       "        }    #T_fb720088_0617_11ea_bffe_a8667f0b6093row6_col4 {\n",
       "            background-color:  #ffffb3;\n",
       "            color:  #000000;\n",
       "        }    #T_fb720088_0617_11ea_bffe_a8667f0b6093row7_col0 {\n",
       "            background-color:  #8dd3c7;\n",
       "            color:  #000000;\n",
       "        }    #T_fb720088_0617_11ea_bffe_a8667f0b6093row7_col1 {\n",
       "            background-color:  #fb8072;\n",
       "            color:  #000000;\n",
       "        }    #T_fb720088_0617_11ea_bffe_a8667f0b6093row7_col2 {\n",
       "            background-color:  #bebada;\n",
       "            color:  #000000;\n",
       "        }    #T_fb720088_0617_11ea_bffe_a8667f0b6093row7_col3 {\n",
       "            background-color:  #ffffb3;\n",
       "            color:  #000000;\n",
       "        }    #T_fb720088_0617_11ea_bffe_a8667f0b6093row7_col4 {\n",
       "            background-color:  #bebada;\n",
       "            color:  #000000;\n",
       "        }    #T_fb720088_0617_11ea_bffe_a8667f0b6093row8_col0 {\n",
       "            background-color:  #d9d9d9;\n",
       "            color:  #000000;\n",
       "        }    #T_fb720088_0617_11ea_bffe_a8667f0b6093row8_col1 {\n",
       "            background-color:  #ffffb3;\n",
       "            color:  #000000;\n",
       "        }    #T_fb720088_0617_11ea_bffe_a8667f0b6093row8_col2 {\n",
       "            background-color:  #fdb462;\n",
       "            color:  #000000;\n",
       "        }    #T_fb720088_0617_11ea_bffe_a8667f0b6093row8_col3 {\n",
       "            background-color:  #fb8072;\n",
       "            color:  #000000;\n",
       "        }    #T_fb720088_0617_11ea_bffe_a8667f0b6093row8_col4 {\n",
       "            background-color:  #80b1d3;\n",
       "            color:  #000000;\n",
       "        }    #T_fb720088_0617_11ea_bffe_a8667f0b6093row9_col0 {\n",
       "            background-color:  #ffed6f;\n",
       "            color:  #000000;\n",
       "        }    #T_fb720088_0617_11ea_bffe_a8667f0b6093row9_col1 {\n",
       "            background-color:  #ffed6f;\n",
       "            color:  #000000;\n",
       "        }    #T_fb720088_0617_11ea_bffe_a8667f0b6093row9_col2 {\n",
       "            background-color:  #ffed6f;\n",
       "            color:  #000000;\n",
       "        }    #T_fb720088_0617_11ea_bffe_a8667f0b6093row9_col3 {\n",
       "            background-color:  #ffed6f;\n",
       "            color:  #000000;\n",
       "        }    #T_fb720088_0617_11ea_bffe_a8667f0b6093row9_col4 {\n",
       "            background-color:  #ffed6f;\n",
       "            color:  #000000;\n",
       "        }</style><table id=\"T_fb720088_0617_11ea_bffe_a8667f0b6093\" ><thead>    <tr>        <th class=\"blank\" ></th>        <th class=\"index_name level0\" >Sex</th>        <th class=\"col_heading level0 col0\" colspan=2>female</th>        <th class=\"col_heading level0 col2\" colspan=2>male</th>        <th class=\"col_heading level0 col4\" >All</th>    </tr>    <tr>        <th class=\"blank\" ></th>        <th class=\"index_name level1\" >Survived</th>        <th class=\"col_heading level1 col0\" >0</th>        <th class=\"col_heading level1 col1\" >1</th>        <th class=\"col_heading level1 col2\" >0</th>        <th class=\"col_heading level1 col3\" >1</th>        <th class=\"col_heading level1 col4\" ></th>    </tr>    <tr>        <th class=\"index_name level0\" >Embarked</th>        <th class=\"index_name level1\" >Pclass</th>        <th class=\"blank\" ></th>        <th class=\"blank\" ></th>        <th class=\"blank\" ></th>        <th class=\"blank\" ></th>        <th class=\"blank\" ></th>    </tr></thead><tbody>\n",
       "                <tr>\n",
       "                        <th id=\"T_fb720088_0617_11ea_bffe_a8667f0b6093level0_row0\" class=\"row_heading level0 row0\" rowspan=3>C</th>\n",
       "                        <th id=\"T_fb720088_0617_11ea_bffe_a8667f0b6093level1_row0\" class=\"row_heading level1 row0\" >1</th>\n",
       "                        <td id=\"T_fb720088_0617_11ea_bffe_a8667f0b6093row0_col0\" class=\"data row0 col0\" >1</td>\n",
       "                        <td id=\"T_fb720088_0617_11ea_bffe_a8667f0b6093row0_col1\" class=\"data row0 col1\" >42</td>\n",
       "                        <td id=\"T_fb720088_0617_11ea_bffe_a8667f0b6093row0_col2\" class=\"data row0 col2\" >25</td>\n",
       "                        <td id=\"T_fb720088_0617_11ea_bffe_a8667f0b6093row0_col3\" class=\"data row0 col3\" >17</td>\n",
       "                        <td id=\"T_fb720088_0617_11ea_bffe_a8667f0b6093row0_col4\" class=\"data row0 col4\" >85</td>\n",
       "            </tr>\n",
       "            <tr>\n",
       "                                <th id=\"T_fb720088_0617_11ea_bffe_a8667f0b6093level1_row1\" class=\"row_heading level1 row1\" >2</th>\n",
       "                        <td id=\"T_fb720088_0617_11ea_bffe_a8667f0b6093row1_col0\" class=\"data row1 col0\" >0</td>\n",
       "                        <td id=\"T_fb720088_0617_11ea_bffe_a8667f0b6093row1_col1\" class=\"data row1 col1\" >7</td>\n",
       "                        <td id=\"T_fb720088_0617_11ea_bffe_a8667f0b6093row1_col2\" class=\"data row1 col2\" >8</td>\n",
       "                        <td id=\"T_fb720088_0617_11ea_bffe_a8667f0b6093row1_col3\" class=\"data row1 col3\" >2</td>\n",
       "                        <td id=\"T_fb720088_0617_11ea_bffe_a8667f0b6093row1_col4\" class=\"data row1 col4\" >17</td>\n",
       "            </tr>\n",
       "            <tr>\n",
       "                                <th id=\"T_fb720088_0617_11ea_bffe_a8667f0b6093level1_row2\" class=\"row_heading level1 row2\" >3</th>\n",
       "                        <td id=\"T_fb720088_0617_11ea_bffe_a8667f0b6093row2_col0\" class=\"data row2 col0\" >8</td>\n",
       "                        <td id=\"T_fb720088_0617_11ea_bffe_a8667f0b6093row2_col1\" class=\"data row2 col1\" >15</td>\n",
       "                        <td id=\"T_fb720088_0617_11ea_bffe_a8667f0b6093row2_col2\" class=\"data row2 col2\" >33</td>\n",
       "                        <td id=\"T_fb720088_0617_11ea_bffe_a8667f0b6093row2_col3\" class=\"data row2 col3\" >10</td>\n",
       "                        <td id=\"T_fb720088_0617_11ea_bffe_a8667f0b6093row2_col4\" class=\"data row2 col4\" >66</td>\n",
       "            </tr>\n",
       "            <tr>\n",
       "                        <th id=\"T_fb720088_0617_11ea_bffe_a8667f0b6093level0_row3\" class=\"row_heading level0 row3\" rowspan=3>Q</th>\n",
       "                        <th id=\"T_fb720088_0617_11ea_bffe_a8667f0b6093level1_row3\" class=\"row_heading level1 row3\" >1</th>\n",
       "                        <td id=\"T_fb720088_0617_11ea_bffe_a8667f0b6093row3_col0\" class=\"data row3 col0\" >0</td>\n",
       "                        <td id=\"T_fb720088_0617_11ea_bffe_a8667f0b6093row3_col1\" class=\"data row3 col1\" >1</td>\n",
       "                        <td id=\"T_fb720088_0617_11ea_bffe_a8667f0b6093row3_col2\" class=\"data row3 col2\" >1</td>\n",
       "                        <td id=\"T_fb720088_0617_11ea_bffe_a8667f0b6093row3_col3\" class=\"data row3 col3\" >0</td>\n",
       "                        <td id=\"T_fb720088_0617_11ea_bffe_a8667f0b6093row3_col4\" class=\"data row3 col4\" >2</td>\n",
       "            </tr>\n",
       "            <tr>\n",
       "                                <th id=\"T_fb720088_0617_11ea_bffe_a8667f0b6093level1_row4\" class=\"row_heading level1 row4\" >2</th>\n",
       "                        <td id=\"T_fb720088_0617_11ea_bffe_a8667f0b6093row4_col0\" class=\"data row4 col0\" >0</td>\n",
       "                        <td id=\"T_fb720088_0617_11ea_bffe_a8667f0b6093row4_col1\" class=\"data row4 col1\" >2</td>\n",
       "                        <td id=\"T_fb720088_0617_11ea_bffe_a8667f0b6093row4_col2\" class=\"data row4 col2\" >1</td>\n",
       "                        <td id=\"T_fb720088_0617_11ea_bffe_a8667f0b6093row4_col3\" class=\"data row4 col3\" >0</td>\n",
       "                        <td id=\"T_fb720088_0617_11ea_bffe_a8667f0b6093row4_col4\" class=\"data row4 col4\" >3</td>\n",
       "            </tr>\n",
       "            <tr>\n",
       "                                <th id=\"T_fb720088_0617_11ea_bffe_a8667f0b6093level1_row5\" class=\"row_heading level1 row5\" >3</th>\n",
       "                        <td id=\"T_fb720088_0617_11ea_bffe_a8667f0b6093row5_col0\" class=\"data row5 col0\" >9</td>\n",
       "                        <td id=\"T_fb720088_0617_11ea_bffe_a8667f0b6093row5_col1\" class=\"data row5 col1\" >24</td>\n",
       "                        <td id=\"T_fb720088_0617_11ea_bffe_a8667f0b6093row5_col2\" class=\"data row5 col2\" >36</td>\n",
       "                        <td id=\"T_fb720088_0617_11ea_bffe_a8667f0b6093row5_col3\" class=\"data row5 col3\" >3</td>\n",
       "                        <td id=\"T_fb720088_0617_11ea_bffe_a8667f0b6093row5_col4\" class=\"data row5 col4\" >72</td>\n",
       "            </tr>\n",
       "            <tr>\n",
       "                        <th id=\"T_fb720088_0617_11ea_bffe_a8667f0b6093level0_row6\" class=\"row_heading level0 row6\" rowspan=3>S</th>\n",
       "                        <th id=\"T_fb720088_0617_11ea_bffe_a8667f0b6093level1_row6\" class=\"row_heading level1 row6\" >1</th>\n",
       "                        <td id=\"T_fb720088_0617_11ea_bffe_a8667f0b6093row6_col0\" class=\"data row6 col0\" >2</td>\n",
       "                        <td id=\"T_fb720088_0617_11ea_bffe_a8667f0b6093row6_col1\" class=\"data row6 col1\" >48</td>\n",
       "                        <td id=\"T_fb720088_0617_11ea_bffe_a8667f0b6093row6_col2\" class=\"data row6 col2\" >51</td>\n",
       "                        <td id=\"T_fb720088_0617_11ea_bffe_a8667f0b6093row6_col3\" class=\"data row6 col3\" >28</td>\n",
       "                        <td id=\"T_fb720088_0617_11ea_bffe_a8667f0b6093row6_col4\" class=\"data row6 col4\" >129</td>\n",
       "            </tr>\n",
       "            <tr>\n",
       "                                <th id=\"T_fb720088_0617_11ea_bffe_a8667f0b6093level1_row7\" class=\"row_heading level1 row7\" >2</th>\n",
       "                        <td id=\"T_fb720088_0617_11ea_bffe_a8667f0b6093row7_col0\" class=\"data row7 col0\" >6</td>\n",
       "                        <td id=\"T_fb720088_0617_11ea_bffe_a8667f0b6093row7_col1\" class=\"data row7 col1\" >61</td>\n",
       "                        <td id=\"T_fb720088_0617_11ea_bffe_a8667f0b6093row7_col2\" class=\"data row7 col2\" >82</td>\n",
       "                        <td id=\"T_fb720088_0617_11ea_bffe_a8667f0b6093row7_col3\" class=\"data row7 col3\" >15</td>\n",
       "                        <td id=\"T_fb720088_0617_11ea_bffe_a8667f0b6093row7_col4\" class=\"data row7 col4\" >164</td>\n",
       "            </tr>\n",
       "            <tr>\n",
       "                                <th id=\"T_fb720088_0617_11ea_bffe_a8667f0b6093level1_row8\" class=\"row_heading level1 row8\" >3</th>\n",
       "                        <td id=\"T_fb720088_0617_11ea_bffe_a8667f0b6093row8_col0\" class=\"data row8 col0\" >55</td>\n",
       "                        <td id=\"T_fb720088_0617_11ea_bffe_a8667f0b6093row8_col1\" class=\"data row8 col1\" >33</td>\n",
       "                        <td id=\"T_fb720088_0617_11ea_bffe_a8667f0b6093row8_col2\" class=\"data row8 col2\" >231</td>\n",
       "                        <td id=\"T_fb720088_0617_11ea_bffe_a8667f0b6093row8_col3\" class=\"data row8 col3\" >34</td>\n",
       "                        <td id=\"T_fb720088_0617_11ea_bffe_a8667f0b6093row8_col4\" class=\"data row8 col4\" >353</td>\n",
       "            </tr>\n",
       "            <tr>\n",
       "                        <th id=\"T_fb720088_0617_11ea_bffe_a8667f0b6093level0_row9\" class=\"row_heading level0 row9\" >All</th>\n",
       "                        <th id=\"T_fb720088_0617_11ea_bffe_a8667f0b6093level1_row9\" class=\"row_heading level1 row9\" ></th>\n",
       "                        <td id=\"T_fb720088_0617_11ea_bffe_a8667f0b6093row9_col0\" class=\"data row9 col0\" >81</td>\n",
       "                        <td id=\"T_fb720088_0617_11ea_bffe_a8667f0b6093row9_col1\" class=\"data row9 col1\" >233</td>\n",
       "                        <td id=\"T_fb720088_0617_11ea_bffe_a8667f0b6093row9_col2\" class=\"data row9 col2\" >468</td>\n",
       "                        <td id=\"T_fb720088_0617_11ea_bffe_a8667f0b6093row9_col3\" class=\"data row9 col3\" >109</td>\n",
       "                        <td id=\"T_fb720088_0617_11ea_bffe_a8667f0b6093row9_col4\" class=\"data row9 col4\" >891</td>\n",
       "            </tr>\n",
       "    </tbody></table>"
      ],
      "text/plain": [
       "<pandas.io.formats.style.Styler at 0x10320ec50>"
      ]
     },
     "execution_count": 34,
     "metadata": {},
     "output_type": "execute_result"
    }
   ],
   "source": [
    "#Survival based on Embarked, Pclass and sex\n",
    "pd.crosstab([train.Embarked, train.Pclass],[train.Sex, train.Survived], margins=True).style.background_gradient(cmap='Set3')"
   ]
  },
  {
   "cell_type": "code",
   "execution_count": 35,
   "metadata": {
    "scrolled": true
   },
   "outputs": [
    {
     "name": "stdout",
     "output_type": "stream",
     "text": [
      "Youngest: 0.42\n",
      "Oldest: 80.0\n"
     ]
    }
   ],
   "source": [
    "print(\"Youngest:\", train['Age'].min())\n",
    "print(\"Oldest:\", train['Age'].max())"
   ]
  },
  {
   "cell_type": "code",
   "execution_count": 36,
   "metadata": {},
   "outputs": [],
   "source": [
    "#replace the values according the above cross tab\n",
    "for df in [X_train,X_test]:\n",
    "    df['Initial'].replace(['Mlle','Mme','Ms','Dr','Major','Lady','Countess','Jonkheer','Col','Rev','Capt','Sir','Don','Dona'],\n",
    "                          ['Miss','Miss','Miss','Dr','Mr','Mrs','Mrs','Mr','Mr','Mr','Mr','Mr','Mr','Miss'],inplace=True)\n"
   ]
  },
  {
   "cell_type": "code",
   "execution_count": 37,
   "metadata": {},
   "outputs": [],
   "source": [
    "for df in [X_train, X_test]:\n",
    "#fill the age values based on median value for Pclass and sex\n",
    "    df['Age'] = df.groupby(['Sex','Pclass','Initial'])['Age'].apply(lambda x:x.fillna(x.median()))"
   ]
  },
  {
   "cell_type": "code",
   "execution_count": 38,
   "metadata": {},
   "outputs": [
    {
     "data": {
      "text/html": [
       "<style  type=\"text/css\" >\n",
       "    #T_fb8e1822_0617_11ea_8c45_a8667f0b6093row0_col0 {\n",
       "            background-color:  #ffff66;\n",
       "            color:  #000000;\n",
       "        }    #T_fb8e1822_0617_11ea_8c45_a8667f0b6093row1_col0 {\n",
       "            background-color:  #b9dc66;\n",
       "            color:  #000000;\n",
       "        }    #T_fb8e1822_0617_11ea_8c45_a8667f0b6093row2_col0 {\n",
       "            background-color:  #54aa66;\n",
       "            color:  #000000;\n",
       "        }    #T_fb8e1822_0617_11ea_8c45_a8667f0b6093row3_col0 {\n",
       "            background-color:  #008066;\n",
       "            color:  #f1f1f1;\n",
       "        }</style><table id=\"T_fb8e1822_0617_11ea_8c45_a8667f0b6093\" ><thead>    <tr>        <th class=\"blank level0\" ></th>        <th class=\"col_heading level0 col0\" >Survived</th>    </tr>    <tr>        <th class=\"index_name level0\" >Fare_Range</th>        <th class=\"blank\" ></th>    </tr></thead><tbody>\n",
       "                <tr>\n",
       "                        <th id=\"T_fb8e1822_0617_11ea_8c45_a8667f0b6093level0_row0\" class=\"row_heading level0 row0\" >(-0.001, 7.91]</th>\n",
       "                        <td id=\"T_fb8e1822_0617_11ea_8c45_a8667f0b6093row0_col0\" class=\"data row0 col0\" >0.197309</td>\n",
       "            </tr>\n",
       "            <tr>\n",
       "                        <th id=\"T_fb8e1822_0617_11ea_8c45_a8667f0b6093level0_row1\" class=\"row_heading level0 row1\" >(7.91, 14.454]</th>\n",
       "                        <td id=\"T_fb8e1822_0617_11ea_8c45_a8667f0b6093row1_col0\" class=\"data row1 col0\" >0.303571</td>\n",
       "            </tr>\n",
       "            <tr>\n",
       "                        <th id=\"T_fb8e1822_0617_11ea_8c45_a8667f0b6093level0_row2\" class=\"row_heading level0 row2\" >(14.454, 31.0]</th>\n",
       "                        <td id=\"T_fb8e1822_0617_11ea_8c45_a8667f0b6093row2_col0\" class=\"data row2 col0\" >0.454955</td>\n",
       "            </tr>\n",
       "            <tr>\n",
       "                        <th id=\"T_fb8e1822_0617_11ea_8c45_a8667f0b6093level0_row3\" class=\"row_heading level0 row3\" >(31.0, 512.329]</th>\n",
       "                        <td id=\"T_fb8e1822_0617_11ea_8c45_a8667f0b6093row3_col0\" class=\"data row3 col0\" >0.581081</td>\n",
       "            </tr>\n",
       "    </tbody></table>"
      ],
      "text/plain": [
       "<pandas.io.formats.style.Styler at 0x1a155e8eb8>"
      ]
     },
     "execution_count": 38,
     "metadata": {},
     "output_type": "execute_result"
    }
   ],
   "source": [
    "# Survival rate based on the Fare\n",
    "train['Fare_Range']=pd.qcut(train['Fare'],4)\n",
    "train.groupby(['Fare_Range'])['Survived'].mean().to_frame().style.background_gradient(cmap='summer_r')"
   ]
  },
  {
   "cell_type": "code",
   "execution_count": 39,
   "metadata": {},
   "outputs": [],
   "source": [
    "#Fare in X_test has a null value so fill it with medianFare of 3rd class alone passenger\n",
    "\n",
    "med_fare = X_test.groupby(['Pclass','SibSp','Parch'])['Fare'].median()[3][0][0]\n",
    "X_test['Fare'] = X_test['Fare'].fillna(med_fare)"
   ]
  },
  {
   "cell_type": "code",
   "execution_count": 40,
   "metadata": {},
   "outputs": [],
   "source": [
    "\n",
    "for df in [X_train, X_test]:\n",
    "    df['Fare_Range'] = 0\n",
    "    df.loc[df['Fare']<=7.91,'Fare_Range'] = 0\n",
    "    df.loc[(df['Fare']>7.91) & (df['Fare']<=14.454), 'Fare_Range'] = 1\n",
    "    df.loc[(df['Fare']>14.454) & (df['Fare']<=31.0), 'Fare_Range'] = 2\n",
    "    df.loc[(df['Fare']>31.0) & (df['Fare']<=513), 'Fare_Range'] = 3"
   ]
  },
  {
   "cell_type": "code",
   "execution_count": 41,
   "metadata": {},
   "outputs": [
    {
     "data": {
      "image/png": "[encoded data removed]",
      "text/plain": [
       "<Figure size 430.5x360 with 1 Axes>"
      ]
     },
     "metadata": {
      "needs_background": "light"
     },
     "output_type": "display_data"
    }
   ],
   "source": [
    "sns.catplot('Fare_Range','Survived',data=X_train,hue='Sex',palette='Set2',kind='point')\n",
    "plt.show()"
   ]
  },
  {
   "cell_type": "code",
   "execution_count": 42,
   "metadata": {},
   "outputs": [
    {
     "data": {
      "image/png": "[encoded data removed]",
      "text/plain": [
       "<Figure size 1296x576 with 2 Axes>"
      ]
     },
     "metadata": {
      "needs_background": "light"
     },
     "output_type": "display_data"
    }
   ],
   "source": [
    "\n",
    "f,ax=plt.subplots(1,2,figsize=(18,8))\n",
    "sns.swarmplot(\"Pclass\",\"Age\", hue=\"Survived\", data=X_train,dodge=True,ax=ax[0],palette='Set2')\n",
    "ax[0].set_title('Pclass and Age vs Survived')\n",
    "ax[0].set_yticks(range(0,110,10))\n",
    "sns.swarmplot(\"Sex\",\"Age\", hue=\"Survived\", data=X_train,dodge=True,ax=ax[1],palette='Set2')\n",
    "ax[1].set_title('Sex and Age vs Survived')\n",
    "ax[1].set_yticks(range(0,110,10))\n",
    "plt.show()"
   ]
  },
  {
   "cell_type": "code",
   "execution_count": 43,
   "metadata": {},
   "outputs": [],
   "source": [
    "#columns that have to be converted from string to int\n",
    "gender =  {'male': 0,'female': 1} \n",
    "embarked = {'S':0, 'C':1,'Q':2}\n",
    "initial = {'Mr':0, 'Mrs':1, 'Miss':2, 'Master':3, 'Dr':4}\n",
    "for df in [X_train,X_test]:\n",
    "    \n",
    "    df['Sex'] = [gender[item] for item in df.Sex]\n",
    "    df['Embarked'] = [embarked[item] for item in df.Embarked]\n",
    "    df['Initial'] = [initial[item] for item in df.Initial]"
   ]
  },
  {
   "cell_type": "code",
   "execution_count": 44,
   "metadata": {},
   "outputs": [],
   "source": [
    "#Age is a continuous variable and within machine learning we need\n",
    "# to convert it into categorical values\n",
    "#bin labels must be one fewer than bin edges\n",
    "\n",
    "#age_bins = [-1,0, 3, 14, 18, 30, 80]\n",
    "age_edges = [-1,0, 5,18, 30, 80]\n",
    "age_labels = ['Infant', 'Childern', 'Teenagers', 'Adult', 'Old']\n",
    "X_train['AgeGroup'] = pd.cut(X_train['Age'], age_edges, labels=age_labels)\n",
    "X_test['AgeGroup'] = pd.cut(X_test['Age'], age_edges, labels=age_labels)\n"
   ]
  },
  {
   "cell_type": "code",
   "execution_count": 45,
   "metadata": {},
   "outputs": [
    {
     "data": {
      "text/html": [
       "<div>\n",
       "<style scoped>\n",
       "    .dataframe tbody tr th:only-of-type {\n",
       "        vertical-align: middle;\n",
       "    }\n",
       "\n",
       "    .dataframe tbody tr th {\n",
       "        vertical-align: top;\n",
       "    }\n",
       "\n",
       "    .dataframe thead th {\n",
       "        text-align: right;\n",
       "    }\n",
       "</style>\n",
       "<table border=\"1\" class=\"dataframe\">\n",
       "  <thead>\n",
       "    <tr style=\"text-align: right;\">\n",
       "      <th></th>\n",
       "      <th>PassengerId</th>\n",
       "      <th>Survived</th>\n",
       "      <th>Pclass</th>\n",
       "      <th>Name</th>\n",
       "      <th>Sex</th>\n",
       "      <th>Age</th>\n",
       "      <th>SibSp</th>\n",
       "      <th>Parch</th>\n",
       "      <th>Ticket</th>\n",
       "      <th>Fare</th>\n",
       "      <th>Cabin</th>\n",
       "      <th>Embarked</th>\n",
       "      <th>Initial</th>\n",
       "      <th>Fare_Range</th>\n",
       "      <th>AgeGroup</th>\n",
       "    </tr>\n",
       "  </thead>\n",
       "  <tbody>\n",
       "    <tr>\n",
       "      <th>0</th>\n",
       "      <td>1</td>\n",
       "      <td>0</td>\n",
       "      <td>3</td>\n",
       "      <td>Braund, Mr. Owen Harris</td>\n",
       "      <td>0</td>\n",
       "      <td>22.0</td>\n",
       "      <td>1</td>\n",
       "      <td>0</td>\n",
       "      <td>A/5 21171</td>\n",
       "      <td>7.2500</td>\n",
       "      <td>NaN</td>\n",
       "      <td>0</td>\n",
       "      <td>0</td>\n",
       "      <td>0</td>\n",
       "      <td>4</td>\n",
       "    </tr>\n",
       "    <tr>\n",
       "      <th>1</th>\n",
       "      <td>2</td>\n",
       "      <td>1</td>\n",
       "      <td>1</td>\n",
       "      <td>Cumings, Mrs. John Bradley (Florence Briggs Th...</td>\n",
       "      <td>1</td>\n",
       "      <td>38.0</td>\n",
       "      <td>1</td>\n",
       "      <td>0</td>\n",
       "      <td>PC 17599</td>\n",
       "      <td>71.2833</td>\n",
       "      <td>C85</td>\n",
       "      <td>1</td>\n",
       "      <td>1</td>\n",
       "      <td>3</td>\n",
       "      <td>5</td>\n",
       "    </tr>\n",
       "    <tr>\n",
       "      <th>2</th>\n",
       "      <td>3</td>\n",
       "      <td>1</td>\n",
       "      <td>3</td>\n",
       "      <td>Heikkinen, Miss. Laina</td>\n",
       "      <td>1</td>\n",
       "      <td>26.0</td>\n",
       "      <td>0</td>\n",
       "      <td>0</td>\n",
       "      <td>STON/O2. 3101282</td>\n",
       "      <td>7.9250</td>\n",
       "      <td>NaN</td>\n",
       "      <td>0</td>\n",
       "      <td>2</td>\n",
       "      <td>1</td>\n",
       "      <td>4</td>\n",
       "    </tr>\n",
       "    <tr>\n",
       "      <th>3</th>\n",
       "      <td>4</td>\n",
       "      <td>1</td>\n",
       "      <td>1</td>\n",
       "      <td>Futrelle, Mrs. Jacques Heath (Lily May Peel)</td>\n",
       "      <td>1</td>\n",
       "      <td>35.0</td>\n",
       "      <td>1</td>\n",
       "      <td>0</td>\n",
       "      <td>113803</td>\n",
       "      <td>53.1000</td>\n",
       "      <td>C123</td>\n",
       "      <td>0</td>\n",
       "      <td>1</td>\n",
       "      <td>3</td>\n",
       "      <td>5</td>\n",
       "    </tr>\n",
       "    <tr>\n",
       "      <th>4</th>\n",
       "      <td>5</td>\n",
       "      <td>0</td>\n",
       "      <td>3</td>\n",
       "      <td>Allen, Mr. William Henry</td>\n",
       "      <td>0</td>\n",
       "      <td>35.0</td>\n",
       "      <td>0</td>\n",
       "      <td>0</td>\n",
       "      <td>373450</td>\n",
       "      <td>8.0500</td>\n",
       "      <td>NaN</td>\n",
       "      <td>0</td>\n",
       "      <td>0</td>\n",
       "      <td>1</td>\n",
       "      <td>5</td>\n",
       "    </tr>\n",
       "  </tbody>\n",
       "</table>\n",
       "</div>"
      ],
      "text/plain": [
       "   PassengerId  Survived  Pclass  \\\n",
       "0            1         0       3   \n",
       "1            2         1       1   \n",
       "2            3         1       3   \n",
       "3            4         1       1   \n",
       "4            5         0       3   \n",
       "\n",
       "                                                Name  Sex   Age  SibSp  Parch  \\\n",
       "0                            Braund, Mr. Owen Harris    0  22.0      1      0   \n",
       "1  Cumings, Mrs. John Bradley (Florence Briggs Th...    1  38.0      1      0   \n",
       "2                             Heikkinen, Miss. Laina    1  26.0      0      0   \n",
       "3       Futrelle, Mrs. Jacques Heath (Lily May Peel)    1  35.0      1      0   \n",
       "4                           Allen, Mr. William Henry    0  35.0      0      0   \n",
       "\n",
       "             Ticket     Fare Cabin  Embarked  Initial  Fare_Range AgeGroup  \n",
       "0         A/5 21171   7.2500   NaN         0        0           0        4  \n",
       "1          PC 17599  71.2833   C85         1        1           3        5  \n",
       "2  STON/O2. 3101282   7.9250   NaN         0        2           1        4  \n",
       "3            113803  53.1000  C123         0        1           3        5  \n",
       "4            373450   8.0500   NaN         0        0           1        5  "
      ]
     },
     "execution_count": 45,
     "metadata": {},
     "output_type": "execute_result"
    }
   ],
   "source": [
    "age_mapping = {'Infant': 1, 'Childern': 2, 'Teenagers': 3, 'Adult': 4, 'Old': 5}\n",
    "X_train['AgeGroup'] = X_train['AgeGroup'].map(age_mapping)\n",
    "X_test['AgeGroup'] = X_test['AgeGroup'].map(age_mapping)\n",
    "X_train.head()"
   ]
  },
  {
   "cell_type": "code",
   "execution_count": 46,
   "metadata": {},
   "outputs": [
    {
     "data": {
      "image/png": "[encoded data removed]",
      "text/plain": [
       "<Figure size 432x288 with 1 Axes>"
      ]
     },
     "metadata": {
      "needs_background": "light"
     },
     "output_type": "display_data"
    }
   ],
   "source": [
    "\n",
    "# Survival based on age, best children then teenagers\n",
    "X_train['Age'] = X_train['Age'].round().astype(int)\n",
    "\n",
    "sns.barplot(x='AgeGroup', y='Survived', data=(X_train))\n",
    "plt.xlabel = ('AgeGroup')\n",
    "plt.ylabel = ('Survived')\n",
    "plt.show()\n"
   ]
  },
  {
   "cell_type": "markdown",
   "metadata": {},
   "source": [
    "Column mapping and column droppings:\n",
    "\n",
    "Name--> Cannot be converted into any categorical value.\n",
    "\n",
    "Age--> AgeGroup.\n",
    "\n",
    "Ticket--> Random string that cannot be categorised.\n",
    "\n",
    "Fare--> Fare_Range.\n",
    "\n",
    "Cabin--> A lot of NaN values and also many passengers have multiple cabins. So this is a useless feature.\n",
    "\n",
    "PassengerId--> Cannot be categorised."
   ]
  },
  {
   "cell_type": "code",
   "execution_count": 47,
   "metadata": {},
   "outputs": [
    {
     "name": "stdout",
     "output_type": "stream",
     "text": [
      "(891, 15) (418, 14)\n"
     ]
    }
   ],
   "source": [
    "print(X_train.shape,X_test.shape)"
   ]
  },
  {
   "cell_type": "code",
   "execution_count": 48,
   "metadata": {},
   "outputs": [],
   "source": [
    "\n",
    "X_train = X_train.drop(['PassengerId','Survived','Age','Ticket','Cabin','Name','Fare'], axis = 1 )\n",
    "\n",
    "#need passengerID for submission so copy test first\n",
    "X_test_copy=X_test.copy()\n",
    "\n",
    "X_test = X_test.drop(['PassengerId','Age','Ticket','Cabin','Name','Fare'], axis = 1 )\n"
   ]
  },
  {
   "cell_type": "code",
   "execution_count": 49,
   "metadata": {},
   "outputs": [
    {
     "data": {
      "text/plain": [
       "Index(['Pclass', 'Sex', 'SibSp', 'Parch', 'Embarked', 'Initial', 'Fare_Range',\n",
       "       'AgeGroup'],\n",
       "      dtype='object')"
      ]
     },
     "execution_count": 49,
     "metadata": {},
     "output_type": "execute_result"
    }
   ],
   "source": [
    "#X_train.info()\n",
    "X_train.shape\n",
    "X_train.columns"
   ]
  },
  {
   "cell_type": "code",
   "execution_count": 50,
   "metadata": {},
   "outputs": [
    {
     "data": {
      "text/plain": [
       "Index(['Pclass', 'Sex', 'SibSp', 'Parch', 'Embarked', 'Initial', 'Fare_Range',\n",
       "       'AgeGroup'],\n",
       "      dtype='object')"
      ]
     },
     "execution_count": 50,
     "metadata": {},
     "output_type": "execute_result"
    }
   ],
   "source": [
    "#X_test.info()\n",
    "X_test.shape\n",
    "X_test.columns\n"
   ]
  },
  {
   "cell_type": "code",
   "execution_count": 51,
   "metadata": {},
   "outputs": [],
   "source": [
    "from sklearn.model_selection import train_test_split #training and testing data split\n",
    "y =y_train\n",
    "X = X_train\n",
    "X_train, X_valid, y_train, y_valid = train_test_split(X,y, test_size=0.3, random_state=0)"
   ]
  },
  {
   "cell_type": "code",
   "execution_count": 52,
   "metadata": {},
   "outputs": [
    {
     "name": "stdout",
     "output_type": "stream",
     "text": [
      "X_train, y_train: (623, 8) (623,)\n",
      "X_valid, y_valid: (268, 8) (268,)\n",
      "X_test: (418, 8)\n"
     ]
    }
   ],
   "source": [
    "\n",
    "#X_train.head()\n",
    "print(\"X_train, y_train:\",X_train.shape,y_train.shape)\n",
    "print(\"X_valid, y_valid:\",X_valid.shape,y_valid.shape)\n",
    "print(\"X_test:\",X_test.shape)"
   ]
  },
  {
   "cell_type": "code",
   "execution_count": 53,
   "metadata": {},
   "outputs": [],
   "source": [
    "#from sklearn import metrics #accuracy measure\n"
   ]
  },
  {
   "cell_type": "code",
   "execution_count": 54,
   "metadata": {},
   "outputs": [
    {
     "name": "stdout",
     "output_type": "stream",
     "text": [
      "DTscore: 0.8022388059701493\n"
     ]
    }
   ],
   "source": [
    "#Decision Tree\n",
    "mod = DT_Classifier(X_train, y_train)\n",
    "#y_pred = mod.predict(X_test)\n",
    "#DTscore = mod.score(X_test, y_pred)*100\n",
    "\n",
    "y_pred = mod.predict(X_valid)\n",
    "DTscore=metrics.accuracy_score(y_valid, y_pred)\n",
    "\n",
    "print(\"DTscore:\",DTscore)"
   ]
  },
  {
   "cell_type": "code",
   "execution_count": 55,
   "metadata": {},
   "outputs": [
    {
     "name": "stdout",
     "output_type": "stream",
     "text": [
      "0.8246268656716418\n"
     ]
    }
   ],
   "source": [
    "#Logistic Regression\n",
    "mod = LR_Classifier(X_train, y_train)\n",
    "y_pred = mod.predict(X_valid)\n",
    "LRscore=metrics.accuracy_score(y_valid, y_pred)\n",
    "\n",
    "#LRscore = mod.score(X_test, y_pred)\n",
    "print(LRscore)"
   ]
  },
  {
   "cell_type": "code",
   "execution_count": 56,
   "metadata": {},
   "outputs": [
    {
     "name": "stdout",
     "output_type": "stream",
     "text": [
      "0.8208955223880597\n"
     ]
    }
   ],
   "source": [
    "#Random tree forrest\n",
    "mod = RTF_Classifier(X_train, y_train)\n",
    "y_pred = mod.predict(X_valid)\n",
    "RTFscore=metrics.accuracy_score(y_valid, y_pred)\n",
    "\n",
    "#RTFscore = mod.score(y_valid, y_pred)*100\n",
    "print(RTFscore)\n"
   ]
  },
  {
   "cell_type": "code",
   "execution_count": 57,
   "metadata": {},
   "outputs": [
    {
     "name": "stdout",
     "output_type": "stream",
     "text": [
      "0.8097014925373134\n"
     ]
    }
   ],
   "source": [
    "#Gaussian\n",
    "mod = GNB_Classifier(X_train, y_train)\n",
    "y_pred = mod.predict(X_valid)\n",
    "\n",
    "#GNBscore = mod.score(X_test, y_pred)*100\n",
    "GNBscore = metrics.accuracy_score(y_valid, y_pred)\n",
    "print(GNBscore)"
   ]
  },
  {
   "cell_type": "code",
   "execution_count": 58,
   "metadata": {},
   "outputs": [
    {
     "name": "stdout",
     "output_type": "stream",
     "text": [
      "KNscore 0.8022388059701493\n"
     ]
    }
   ],
   "source": [
    "# K-nearest-neighbors\n",
    "mod = Knn_Classifier(X_train,y_train,4)\n",
    "y_pred = mod.predict(X_valid)\n",
    "\n",
    "KNscore=metrics.accuracy_score(y_valid, y_pred)\n",
    "\n",
    "print ('KNscore', KNscore)"
   ]
  },
  {
   "cell_type": "code",
   "execution_count": 59,
   "metadata": {},
   "outputs": [
    {
     "name": "stdout",
     "output_type": "stream",
     "text": [
      "SVMscore 0.8208955223880597\n"
     ]
    }
   ],
   "source": [
    "#support vector machine\n",
    "mod = SVM_Classifier(X_train, y_train) #kernel='rbf'\n",
    "\n",
    "y_pred = mod.predict(X_valid)\n",
    "SVMscore = metrics.accuracy_score(y_valid, y_pred)\n",
    "\n",
    "print('SVMscore', SVMscore)\n"
   ]
  },
  {
   "cell_type": "code",
   "execution_count": 60,
   "metadata": {},
   "outputs": [
    {
     "name": "stdout",
     "output_type": "stream",
     "text": [
      "AB score 0.8208955223880597\n"
     ]
    }
   ],
   "source": [
    "#ABa booster\n",
    "mod =AB_Classifier(X_train, y_train)\n",
    "y_pred = mod.predict(X_valid)\n",
    "ABscore = metrics.accuracy_score(y_valid, y_pred)\n",
    "print('AB score', ABscore)"
   ]
  },
  {
   "cell_type": "code",
   "execution_count": 61,
   "metadata": {},
   "outputs": [
    {
     "name": "stdout",
     "output_type": "stream",
     "text": [
      "XGB score 0.8208955223880597\n"
     ]
    }
   ],
   "source": [
    "#XG boost\n",
    "mod = XGBoost_Classifier(X_train, y_train)\n",
    "y_pred = mod.predict(X_valid)\n",
    "XGBscore = metrics.accuracy_score(y_valid, y_pred)\n",
    "print ('XGB score', XGBscore)\n"
   ]
  },
  {
   "cell_type": "code",
   "execution_count": 62,
   "metadata": {},
   "outputs": [
    {
     "name": "stdout",
     "output_type": "stream",
     "text": [
      "best grid 0.8117647058823529\n",
      "best params {'n_estimators': 185}\n",
      "best_estimator BaggingClassifier(base_estimator=None, bootstrap=True,\n",
      "         bootstrap_features=False, max_features=1.0, max_samples=1.0,\n",
      "         n_estimators=185, n_jobs=1, oob_score=False, random_state=None,\n",
      "         verbose=0, warm_start=False)\n",
      "bagging grid score 0.8956661316211878\n",
      "--------------------------------------------------\n",
      "score 0.8134328358208955\n"
     ]
    }
   ],
   "source": [
    "#Boosting\n",
    "mod = Bagging_Classifier(X_train,y_train)\n",
    "y_pred = mod.predict(X_valid)\n",
    "score=metrics.accuracy_score(y_valid, y_pred)\n",
    "print('-'*50)\n",
    "print('score', score)"
   ]
  },
  {
   "cell_type": "code",
   "execution_count": 63,
   "metadata": {
    "scrolled": true
   },
   "outputs": [
    {
     "name": "stdout",
     "output_type": "stream",
     "text": [
      "                 Model    Scores\n",
      "1  Logistic Regression  0.824627\n",
      "2        Random Forest  0.820896\n",
      "5                  Svm  0.820896\n",
      "6              XGBoost  0.820896\n",
      "3           GaussianNB  0.809701\n",
      "0        Decision Tree  0.802239\n",
      "4            KNeigbors  0.802239\n"
     ]
    }
   ],
   "source": [
    "#sort the scores best on the best classifier first\n",
    "model_score = pd.DataFrame({\n",
    "    'Model':['Decision Tree', 'Logistic Regression', 'Random Forest',\n",
    "            'GaussianNB','KNeigbors','Svm', 'XGBoost'],\n",
    "    'Scores':[DTscore,LRscore,RTFscore,GNBscore,KNscore,SVMscore,XGBscore]})\n",
    "\n",
    "print(model_score.sort_values(by='Scores', ascending=False))"
   ]
  },
  {
   "cell_type": "code",
   "execution_count": 64,
   "metadata": {},
   "outputs": [
    {
     "name": "stdout",
     "output_type": "stream",
     "text": [
      "Fitting 3 folds for each of 260 candidates, totalling 780 fits\n",
      "score 0.8171641791044776\n",
      "best score: 0.8314606741573034\n",
      "best estimator: SVC(C=0.4, cache_size=200, class_weight=None, coef0=0.0,\n",
      "  decision_function_shape='ovr', degree=3, gamma=0.1, kernel='rbf',\n",
      "  max_iter=-1, probability=False, random_state=None, shrinking=True,\n",
      "  tol=0.001, verbose=False)\n"
     ]
    },
    {
     "name": "stderr",
     "output_type": "stream",
     "text": [
      "[Parallel(n_jobs=1)]: Done 780 out of 780 | elapsed:   11.5s finished\n"
     ]
    }
   ],
   "source": [
    "#hyper parameters tunning\n",
    "from sklearn.model_selection import GridSearchCV\n",
    "C=[0.05, 0.1, 0.2, 0.25, 0.3, 0.35, 0.4, 0.5, 0.6, 0.7, 0.8, 0.9, 1]\n",
    "gamma=[0.1,0.2,0.3,0.4,0.5,0.6,0.7,0.8,0.9,1.0]\n",
    "kernel=['rbf','linear']\n",
    "hyper = {'kernel':kernel, 'C':C, 'gamma':gamma}\n",
    "gd =GridSearchCV(estimator=svm.SVC(), param_grid=hyper, verbose=True)\n",
    "\n",
    "mod = gd.fit(X_train,y_train)\n",
    "y_pred = mod.predict(X_valid)\n",
    "score=metrics.accuracy_score(y_valid, y_pred)\n",
    "print('score', score)\n",
    "\n",
    "print(\"best score:\",gd.best_score_)\n",
    "print(\"best estimator:\",gd.best_estimator_)"
   ]
  },
  {
   "cell_type": "code",
   "execution_count": 65,
   "metadata": {},
   "outputs": [
    {
     "name": "stdout",
     "output_type": "stream",
     "text": [
      "SVMscore 0.8171641791044776\n"
     ]
    }
   ],
   "source": [
    "clf = svm.SVC(C=0.2, cache_size=200, class_weight=None, coef0=0.0,\n",
    "  decision_function_shape='ovr', degree=3, gamma=0.1, kernel='rbf',\n",
    "  max_iter=-1, probability=False, random_state=None, shrinking=True,\n",
    "  tol=0.001, verbose=False)\n",
    "mod = clf.fit(X_train,y_train)\n",
    "\n",
    "y_pred = mod.predict(X_valid)\n",
    "SVMscore = metrics.accuracy_score(y_valid, y_pred)\n",
    "\n",
    "print('SVMscore', SVMscore)\n"
   ]
  },
  {
   "cell_type": "code",
   "execution_count": 67,
   "metadata": {},
   "outputs": [
    {
     "name": "stdout",
     "output_type": "stream",
     "text": [
      "(623, 8) (418, 8)\n"
     ]
    }
   ],
   "source": [
    "print(X_train.shape,X_test.shape)"
   ]
  },
  {
   "cell_type": "code",
   "execution_count": 68,
   "metadata": {},
   "outputs": [
    {
     "name": "stdout",
     "output_type": "stream",
     "text": [
      "Fitting 3 folds for each of 19 candidates, totalling 57 fits\n",
      "best score 0.8154093097913323\n",
      "best estimator: RandomForestClassifier(bootstrap=True, class_weight=None, criterion='gini',\n",
      "            max_depth=None, max_features='auto', max_leaf_nodes=None,\n",
      "            min_impurity_decrease=0.0, min_impurity_split=None,\n",
      "            min_samples_leaf=1, min_samples_split=2,\n",
      "            min_weight_fraction_leaf=0.0, n_estimators=50, n_jobs=1,\n",
      "            oob_score=False, random_state=0, verbose=0, warm_start=False)\n"
     ]
    },
    {
     "name": "stderr",
     "output_type": "stream",
     "text": [
      "[Parallel(n_jobs=1)]: Done  57 out of  57 | elapsed:   60.0s finished\n"
     ]
    }
   ],
   "source": [
    "n_estimator =range(50, 1000, 50)\n",
    "hyper = {'n_estimators': n_estimator}\n",
    "gd = GridSearchCV(estimator=RandomForestClassifier(random_state=0), param_grid=hyper, verbose=True)\n",
    "gd.fit(X_train,y_train)\n",
    "print(\"best score\",gd.best_score_)\n",
    "print(\"best estimator:\",gd.best_estimator_)"
   ]
  },
  {
   "cell_type": "code",
   "execution_count": 69,
   "metadata": {},
   "outputs": [
    {
     "name": "stdout",
     "output_type": "stream",
     "text": [
      "RFscore 0.8134328358208955\n"
     ]
    }
   ],
   "source": [
    "clf= RandomForestClassifier(bootstrap=True, class_weight=None, criterion='gini',\n",
    "            max_depth=None, max_features='auto', max_leaf_nodes=None,\n",
    "            min_impurity_decrease=0.0, min_impurity_split=None,\n",
    "            min_samples_leaf=1, min_samples_split=2,\n",
    "            min_weight_fraction_leaf=0.0, n_estimators=750, n_jobs=1,\n",
    "            oob_score=False, random_state=0, verbose=0, warm_start=False)\n",
    "mod = clf.fit(X_train,y_train)\n",
    "\n",
    "y_pred = mod.predict(X_valid)\n",
    "RFscore = metrics.accuracy_score(y_valid, y_pred)\n",
    "\n",
    "print('RFscore', RFscore)"
   ]
  },
  {
   "cell_type": "code",
   "execution_count": 69,
   "metadata": {},
   "outputs": [
    {
     "name": "stdout",
     "output_type": "stream",
     "text": [
      "(623, 8) (418, 8)\n"
     ]
    }
   ],
   "source": [
    "print(X_train.shape,X_test.shape)"
   ]
  },
  {
   "cell_type": "code",
   "execution_count": 70,
   "metadata": {},
   "outputs": [
    {
     "data": {
      "image/png": "[encoded data removed]",
      "text/plain": [
       "<Figure size 1080x864 with 4 Axes>"
      ]
     },
     "metadata": {
      "needs_background": "light"
     },
     "output_type": "display_data"
    },
    {
     "data": {
      "text/plain": [
       "<Figure size 432x288 with 0 Axes>"
      ]
     },
     "metadata": {},
     "output_type": "display_data"
    }
   ],
   "source": [
    "#feature importance\n",
    "\n",
    "f, ax = plt.subplots(2,2, figsize=(15,12))\n",
    "model=RandomForestClassifier(n_estimators=500,random_state=0)\n",
    "model.fit(X_train,y_train)\n",
    "pd.Series(model.feature_importances_,X_train.columns).sort_values(ascending=True).plot.barh(width=0.8,ax=ax[0,0], cmap='Set3')\n",
    "ax[0,0].set_title('Feature Importance in Random Forests')\n",
    "\n",
    "#model=svm.SVC(kernel='rbf', C=0.1, gamma=0.1)\n",
    "#model.fit(X,y)\n",
    "#pd.Series(model.feature_importances_,X.columns).sort_values(ascending=True).plot.barh(width=0.8,ax=ax[0,0], cmap='Set3')\n",
    "# ax[0,1].set_title('Feature Importance in SVM')\n",
    "\n",
    "#model=xg.XGBClassifier(n_estimators=900,learning_rate=0.1)\n",
    "model = RandomForestClassifier()\n",
    "model.fit(X_train,y_train)\n",
    "pd.Series(model.feature_importances_,X_train.columns).sort_values(ascending=True).plot.barh(width=0.8,ax=ax[0,1],color='violet')\n",
    "ax[0,1].set_title('Feature Importance in XgBoost')\n",
    "plt.subplots_adjust(wspace=0.5, hspace=0.5)\n",
    "plt.show()\n",
    "\n",
    "model = AdaBoostClassifier()\n",
    "model.fit(X_train,y_train)\n",
    "pd.Series(model.feature_importances_,X_train.columns).sort_values(ascending=True).plot.barh(width=0.8,ax=ax[1,0],color='violet')\n",
    "ax[1,0].set_title('Feature Importance in AdABoost')\n",
    "plt.subplots_adjust(wspace=0.5, hspace=0.5)\n",
    "plt.show()"
   ]
  },
  {
   "cell_type": "code",
   "execution_count": 71,
   "metadata": {},
   "outputs": [
    {
     "name": "stdout",
     "output_type": "stream",
     "text": [
      "(623, 8) (418, 8)\n"
     ]
    }
   ],
   "source": [
    "print(X_train.shape,X_test.shape)"
   ]
  },
  {
   "cell_type": "code",
   "execution_count": 80,
   "metadata": {},
   "outputs": [
    {
     "name": "stdout",
     "output_type": "stream",
     "text": [
      "The accuracy of the  Model is  0.7947761194029851\n"
     ]
    }
   ],
   "source": [
    "#Let's redefine the feture for random forest\n",
    "# reducing the features to the most important ones for random forest\n",
    "#['Initial','Sex','Pclass','AgeGroup','Fare_Range','SibSp','Embarked',Parch']\n",
    "feature_random = ['Initial']\n",
    "\n",
    "X_random = X[feature_random]\n",
    "XR_train, XR_valid, yR_train, yR_valid = train_test_split(X_random,y, test_size=0.3, random_state=0)\n",
    "\n",
    "model = RandomForestClassifier()\n",
    "#model =AdaBoostClassifier(n_estimators=900, random_state=0, learning_rate=0.01)\n",
    "model.fit(XR_train, yR_train)\n",
    "predict_random = model.predict(XR_valid)\n",
    "y_pred =  metrics.accuracy_score(predict_random, yR_valid)\n",
    "print('The accuracy of the  Model is ',y_pred)"
   ]
  },
  {
   "cell_type": "code",
   "execution_count": 71,
   "metadata": {},
   "outputs": [
    {
     "name": "stdout",
     "output_type": "stream",
     "text": [
      "(623, 8) (418, 8)\n"
     ]
    }
   ],
   "source": [
    "print(X_train.shape,X_test.shape)"
   ]
  },
  {
   "cell_type": "code",
   "execution_count": 72,
   "metadata": {},
   "outputs": [
    {
     "name": "stdout",
     "output_type": "stream",
     "text": [
      "The accuracy of the  Model is  0.8171641791044776\n"
     ]
    }
   ],
   "source": [
    "#Let's redefine the feture for xgboost\n",
    "# reducing the features to the most important ones for random forest\n",
    "#['Initial','Sex','Pclass','AgeGroup','Fare_Range','SibSp','Embarked',Parch']\n",
    "\n",
    "feature_random = ['Initial','Sex','Pclass','SibSp','AgeGroup','Parch']\n",
    "\n",
    "X_random = X[feature_random]\n",
    "XR_train, XR_valid, yR_train, yR_valid = train_test_split(X_random,y, test_size=0.3, random_state=0)\n",
    "\n",
    "#model=xg.XGBClassifier()\n",
    "model =AdaBoostClassifier(n_estimators=900, random_state=0, learning_rate=0.01)\n",
    "model.fit(XR_train, yR_train)\n",
    "predict_random = model.predict(XR_valid)\n",
    "y_pred =  metrics.accuracy_score(predict_random, yR_valid)\n",
    "print('The accuracy of the  Model is ',y_pred)"
   ]
  },
  {
   "cell_type": "code",
   "execution_count": 81,
   "metadata": {},
   "outputs": [
    {
     "data": {
      "text/plain": [
       "Text(0.5, 1, 'Decision Tree')"
      ]
     },
     "execution_count": 81,
     "metadata": {},
     "output_type": "execute_result"
    },
    {
     "data": {
      "image/png": "[encoded data removed]",
      "text/plain": [
       "<Figure size 720x576 with 16 Axes>"
      ]
     },
     "metadata": {
      "needs_background": "light"
     },
     "output_type": "display_data"
    }
   ],
   "source": [
    "# confusion matrix\n",
    "\n",
    "f,ax  = plt.subplots(3,3, figsize=(10,8))\n",
    "\n",
    "y_pred = cross_val_predict(svm.SVC(kernel ='linear'),X,y,cv=10)\n",
    "sns.heatmap(confusion_matrix(y,y_pred), ax=ax[0,0], annot=True,fmt='2.0f')\n",
    "ax[0,0].set_title('Linear SVM')\n",
    "\n",
    "y_pred = cross_val_predict(svm.SVC(kernel ='rbf'),X,y,cv=10)\n",
    "sns.heatmap(confusion_matrix(y,y_pred), ax=ax[0,1], annot=True,fmt='2.0f')\n",
    "ax[0,1].set_title('Radical SVM')\n",
    "\n",
    "y_pred = cross_val_predict(LogisticRegression(solver='liblinear'),X,y,cv=10)\n",
    "sns.heatmap(confusion_matrix(y,y_pred), ax=ax[0,2], annot=True,fmt='2.0f')\n",
    "ax[0,2].set_title('Logistic Regression')\n",
    "\n",
    "y_pred = cross_val_predict(RandomForestClassifier(n_estimators=100),X,y,cv=10)\n",
    "sns.heatmap(confusion_matrix(y,y_pred), ax=ax[1,0], annot=True,fmt='2.0f')\n",
    "ax[1,0].set_title('Random Forest')\n",
    "\n",
    "y_pred = cross_val_predict(GaussianNB(),X,y,cv=10)\n",
    "sns.heatmap(confusion_matrix(y,y_pred), ax=ax[1,1], annot=True,fmt='2.0f')\n",
    "ax[1,1].set_title('Gaussin NB')\n",
    "\n",
    "y_pred = cross_val_predict(KNeighborsClassifier(n_neighbors=4),X,y,cv=10)\n",
    "sns.heatmap(confusion_matrix(y,y_pred), ax=ax[1,2], annot=True,fmt='2.0f')\n",
    "ax[1,2].set_title('K Neighbors')\n",
    "\n",
    "y_pred = cross_val_predict(DecisionTreeClassifier(),X,y,cv=10)\n",
    "sns.heatmap(confusion_matrix(y,y_pred), ax=ax[2,0], annot=True,fmt='2.0f')\n",
    "ax[2,0].set_title('Decision Tree')\n",
    "\n"
   ]
  },
  {
   "cell_type": "markdown",
   "metadata": {},
   "source": [
    "\n",
    "Ensembling\n",
    "\n",
    "Is a good way to increase the accuracy or performance of a model, It is the combination of various simple models to create powerful model.\n",
    "\n",
    "Voting Classifier\n",
    "Bagging\n",
    "Boosting\n",
    "."
   ]
  },
  {
   "cell_type": "code",
   "execution_count": 82,
   "metadata": {},
   "outputs": [
    {
     "name": "stdout",
     "output_type": "stream",
     "text": [
      "The accuracy for ensembled model is: 0.8134328358208955\n"
     ]
    },
    {
     "name": "stderr",
     "output_type": "stream",
     "text": [
      "/anaconda3/lib/python3.6/site-packages/sklearn/preprocessing/label.py:151: DeprecationWarning: The truth value of an empty array is ambiguous. Returning False, but in future this will result in an error. Use `array.size > 0` to check that an array is not empty.\n",
      "  if diff:\n"
     ]
    }
   ],
   "source": [
    "#Voting Classifier\n",
    "\n",
    "#It is the simplest way of combining predictions from many different machine larning models. \n",
    "#It gives prediction results based on the prediction of all the submodels\n",
    "\n",
    "from sklearn.ensemble import VotingClassifier\n",
    "\n",
    "ensemble = VotingClassifier(estimators=[('KNN', KNeighborsClassifier(n_neighbors=9)),\n",
    "                                        ('RBF', svm.SVC(kernel='rbf',probability=True,C=0.4,gamma=0.1)),\n",
    "                                        ('RFor', RandomForestClassifier(n_estimators=900, random_state=0)),\n",
    "                                        ('LR', LogisticRegression(C=0.05)),\n",
    "                                        ('DT', DecisionTreeClassifier(random_state=0)),\n",
    "                                        ('NB', GaussianNB()),\n",
    "                                        ('Svm', svm.SVC(kernel='linear',probability=True))],\n",
    "                           voting='soft').fit(X_train, y_train)\n",
    "\n",
    "print('The accuracy for ensembled model is:',ensemble.score(X_valid,y_valid))\n",
    "\n",
    "\n",
    "         "
   ]
  },
  {
   "cell_type": "code",
   "execution_count": 77,
   "metadata": {},
   "outputs": [
    {
     "name": "stdout",
     "output_type": "stream",
     "text": [
      "The accuracy for bagged KNN is: 0.8134328358208955\n"
     ]
    }
   ],
   "source": [
    "#Bagging\n",
    "#Unlike Voting Classifier, Bagging makes use of similar classifiers.\n",
    "from sklearn.ensemble import BaggingClassifier\n",
    "model_bag = BaggingClassifier(base_estimator=KNeighborsClassifier(n_neighbors=3), random_state=0, n_estimators=800)\n",
    "model_bag.fit(X_train, y_train)\n",
    "prediction_bag = model_bag.predict(X_valid)\n",
    "print('The accuracy for bagged KNN is:',metrics.accuracy_score(prediction_bag,y_valid))"
   ]
  },
  {
   "cell_type": "code",
   "execution_count": 80,
   "metadata": {},
   "outputs": [
    {
     "name": "stdout",
     "output_type": "stream",
     "text": [
      "final ypred, X_test (418,) (418, 8)\n"
     ]
    }
   ],
   "source": [
    "#y_pred=mod.predict(X_test)\n",
    "#y_pred=model_bag.predict(X_test)\n",
    "\n",
    "#final model:\n",
    "model = LR_Classifier(X_train, y_train)\n",
    "\n",
    "y_pred = model.predict(X_test)\n",
    "\n",
    "#y_pred=model.predict(X_test[feature_random]) # feature reductions\n",
    "print('final ypred, X_test',y_pred.shape, X_test.shape)"
   ]
  },
  {
   "cell_type": "code",
   "execution_count": null,
   "metadata": {},
   "outputs": [],
   "source": [
    "\n",
    "submission = pd.DataFrame({\n",
    "        \"PassengerId\": X_test_copy[\"PassengerId\"],\n",
    "        \"Survived\": y_pred\n",
    "    })\n",
    "submission.to_csv('submission.csv', index=False)"
   ]
  },
  {
   "cell_type": "code",
   "execution_count": null,
   "metadata": {},
   "outputs": [],
   "source": [
    "print('X_train',len(X_train))\n",
    "print('y_pred', len(y_train))\n",
    "print('X_test',len(X_test))\n",
    "\n",
    "X_train.to_pickle('X_train')\n",
    "y_train.to_pickle('y_train')\n",
    "X_test.to_pickle('X-test')\n",
    "\n",
    "test=pd.read_pickle('X_train')\n",
    "test.head()\n"
   ]
  },
  {
   "cell_type": "code",
   "execution_count": null,
   "metadata": {},
   "outputs": [],
   "source": [
    "from sklearn.ensemble import RandomForestClassifier\n",
    "\n",
    "y = train_data[\"Survived\"]\n",
    "\n",
    "features = [\"Pclass\", \"Sex\", \"SibSp\", \"Parch\"]\n",
    "X = pd.get_dummies(train_data[features])\n",
    "X_test = pd.get_dummies(test_data[features])\n",
    "\n",
    "model = RandomForestClassifier(n_estimators=100, max_depth=5, random_state=1)\n",
    "model.fit(X, y)\n",
    "predictions = model.predict(X_test)\n",
    "\n",
    "output = pd.DataFrame({'PassengerId': test_data.PassengerId, 'Survived': predictions})\n",
    "output.to_csv('my_submission.csv', index=False)\n",
    "print(\"Your submission was successfully saved!\")"
   ]
  },
  {
   "cell_type": "code",
   "execution_count": null,
   "metadata": {},
   "outputs": [],
   "source": []
  }
 ],
 "metadata": {
  "celltoolbar": "Tags",
  "kernelspec": {
   "display_name": "Python 3",
   "language": "python",
   "name": "python3"
  },
  "language_info": {
   "codemirror_mode": {
    "name": "ipython",
    "version": 3
   },
   "file_extension": ".py",
   "mimetype": "text/x-python",
   "name": "python",
   "nbconvert_exporter": "python",
   "pygments_lexer": "ipython3",
   "version": "3.6.12"
  }
 },
 "nbformat": 4,
 "nbformat_minor": 2
}
